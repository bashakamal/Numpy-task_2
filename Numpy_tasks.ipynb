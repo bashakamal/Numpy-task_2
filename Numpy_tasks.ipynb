{
  "cells": [
    {
      "cell_type": "markdown",
      "metadata": {
        "id": "view-in-github",
        "colab_type": "text"
      },
      "source": [
        "<a href=\"https://colab.research.google.com/github/bashakamal/Numpy-task_2/blob/main/Numpy_tasks.ipynb\" target=\"_parent\"><img src=\"https://colab.research.google.com/assets/colab-badge.svg\" alt=\"Open In Colab\"/></a>"
      ]
    },
    {
      "cell_type": "markdown",
      "metadata": {
        "id": "J9hgmc4-gkN-"
      },
      "source": [
        "# Numpy\n",
        "\n"
      ]
    },
    {
      "cell_type": "markdown",
      "metadata": {
        "id": "z5QlmLXngkOJ"
      },
      "source": [
        "#### 1. Import the numpy package under the name `np` (★☆☆) \n",
        "(**hint**: import … as …)"
      ]
    },
    {
      "cell_type": "code",
      "execution_count": 1,
      "metadata": {
        "collapsed": true,
        "id": "ShjNtKdZgkOM"
      },
      "outputs": [],
      "source": [
        "import numpy as np"
      ]
    },
    {
      "cell_type": "markdown",
      "metadata": {
        "id": "H9oyENABgkOO"
      },
      "source": [
        "#### 2. Print the numpy version and the configuration (★☆☆) \n",
        "(**hint**: np.\\_\\_version\\_\\_, np.show\\_config)"
      ]
    },
    {
      "cell_type": "code",
      "execution_count": 2,
      "metadata": {
        "id": "uh0JHXv_gkOQ",
        "colab": {
          "base_uri": "https://localhost:8080/",
          "height": 36
        },
        "outputId": "80d27a56-fc4c-4196-aaba-99054593c630"
      },
      "outputs": [
        {
          "output_type": "execute_result",
          "data": {
            "text/plain": [
              "'1.21.6'"
            ],
            "application/vnd.google.colaboratory.intrinsic+json": {
              "type": "string"
            }
          },
          "metadata": {},
          "execution_count": 2
        }
      ],
      "source": [
        "np.__version__"
      ]
    },
    {
      "cell_type": "code",
      "source": [
        "np.show_config"
      ],
      "metadata": {
        "colab": {
          "base_uri": "https://localhost:8080/"
        },
        "id": "lFOm3jjyhYvA",
        "outputId": "853831e0-52bc-4083-87b7-5ebf56b63ee1"
      },
      "execution_count": 3,
      "outputs": [
        {
          "output_type": "execute_result",
          "data": {
            "text/plain": [
              "<function numpy.__config__.show()>"
            ]
          },
          "metadata": {},
          "execution_count": 3
        }
      ]
    },
    {
      "cell_type": "markdown",
      "metadata": {
        "id": "wa8ZURORgkOR"
      },
      "source": [
        "#### 3. Create a null vector of size 10 (★☆☆) \n",
        "(**hint**: np.zeros)"
      ]
    },
    {
      "cell_type": "code",
      "execution_count": 4,
      "metadata": {
        "id": "5BGZXj1sgkOT",
        "colab": {
          "base_uri": "https://localhost:8080/"
        },
        "outputId": "a5dfa7df-0d51-46e6-f7f9-2943324df6c4"
      },
      "outputs": [
        {
          "output_type": "execute_result",
          "data": {
            "text/plain": [
              "array([0., 0., 0., 0., 0., 0., 0., 0., 0., 0.])"
            ]
          },
          "metadata": {},
          "execution_count": 4
        }
      ],
      "source": [
        "x=np.zeros(10)\n",
        "x"
      ]
    },
    {
      "cell_type": "markdown",
      "metadata": {
        "id": "inYSvg2CgkOV"
      },
      "source": [
        "#### 4.  How to find the memory size of any array (★☆☆) \n",
        "(**hint**: size, itemsize)"
      ]
    },
    {
      "cell_type": "code",
      "execution_count": 5,
      "metadata": {
        "id": "rvXcfM23gkOX",
        "colab": {
          "base_uri": "https://localhost:8080/"
        },
        "outputId": "319a96d2-8715-44ec-a744-e4c0fa6d9f74"
      },
      "outputs": [
        {
          "output_type": "execute_result",
          "data": {
            "text/plain": [
              "10"
            ]
          },
          "metadata": {},
          "execution_count": 5
        }
      ],
      "source": [
        "x.size"
      ]
    },
    {
      "cell_type": "markdown",
      "metadata": {
        "id": "m7JxelS3gkOZ"
      },
      "source": [
        "#### 5.  How to get the documentation of the numpy add function from the command line? (★☆☆) \n",
        "(**hint**: np.info)"
      ]
    },
    {
      "cell_type": "code",
      "execution_count": 6,
      "metadata": {
        "collapsed": true,
        "id": "9o73oEThgkOb",
        "colab": {
          "base_uri": "https://localhost:8080/"
        },
        "outputId": "16e1bf4b-8407-47cf-a5b4-461c69c086c8"
      },
      "outputs": [
        {
          "output_type": "execute_result",
          "data": {
            "text/plain": [
              "<function numpy.info(object=None, maxwidth=76, output=<ipykernel.iostream.OutStream object at 0x7f83e5f21210>, toplevel='numpy')>"
            ]
          },
          "metadata": {},
          "execution_count": 6
        }
      ],
      "source": [
        "np.info"
      ]
    },
    {
      "cell_type": "markdown",
      "metadata": {
        "id": "RnjBHd9EgkOc"
      },
      "source": [
        "#### 6.  Create a null vector of size 10 but the fifth value which is 1 (★☆☆) \n",
        "(**hint**: array\\[4\\])"
      ]
    },
    {
      "cell_type": "code",
      "execution_count": 7,
      "metadata": {
        "id": "qOcc6pZCgkOd",
        "colab": {
          "base_uri": "https://localhost:8080/"
        },
        "outputId": "a0930fdd-f93e-4249-cc5d-b4ee1d95955d"
      },
      "outputs": [
        {
          "output_type": "execute_result",
          "data": {
            "text/plain": [
              "array([0., 0., 0., 0., 1., 0., 0., 0., 0., 0.])"
            ]
          },
          "metadata": {},
          "execution_count": 7
        }
      ],
      "source": [
        "y=np.zeros(10)\n",
        "y[4]=1\n",
        "y"
      ]
    },
    {
      "cell_type": "markdown",
      "metadata": {
        "id": "eL1G4xrMgkOe"
      },
      "source": [
        "#### 7.  Create a vector with values ranging from 10 to 49 (★☆☆) \n",
        "(**hint**: np.arange)"
      ]
    },
    {
      "cell_type": "code",
      "execution_count": 8,
      "metadata": {
        "id": "tpF5MVcJgkOh",
        "colab": {
          "base_uri": "https://localhost:8080/"
        },
        "outputId": "7d239f36-7b8f-4b31-f134-a4adbc662ccb"
      },
      "outputs": [
        {
          "output_type": "execute_result",
          "data": {
            "text/plain": [
              "array([10, 11, 12, 13, 14, 15, 16, 17, 18, 19, 20, 21, 22, 23, 24, 25, 26,\n",
              "       27, 28, 29, 30, 31, 32, 33, 34, 35, 36, 37, 38, 39, 40, 41, 42, 43,\n",
              "       44, 45, 46, 47, 48, 49])"
            ]
          },
          "metadata": {},
          "execution_count": 8
        }
      ],
      "source": [
        "np.arange(10,50)"
      ]
    },
    {
      "cell_type": "markdown",
      "metadata": {
        "id": "PCC-OcXkgkOi"
      },
      "source": [
        "#### 8.  Reverse a vector (first element becomes last) (★☆☆) \n",
        "(**hint**: array\\[::-1\\])"
      ]
    },
    {
      "cell_type": "code",
      "execution_count": 9,
      "metadata": {
        "id": "bKg6KH_hgkPh",
        "colab": {
          "base_uri": "https://localhost:8080/"
        },
        "outputId": "daa11473-6bd1-4682-f596-8eb058a903d8"
      },
      "outputs": [
        {
          "output_type": "execute_result",
          "data": {
            "text/plain": [
              "array([49, 48, 47, 46, 45, 44, 43, 42, 41, 40, 39, 38, 37, 36, 35, 34, 33,\n",
              "       32, 31, 30, 29, 28, 27, 26, 25, 24, 23, 22, 21, 20, 19, 18, 17, 16,\n",
              "       15, 14, 13, 12, 11, 10])"
            ]
          },
          "metadata": {},
          "execution_count": 9
        }
      ],
      "source": [
        "f=np.arange(10,50)\n",
        "f[::-1]"
      ]
    },
    {
      "cell_type": "markdown",
      "metadata": {
        "id": "K0GlvsiegkPi"
      },
      "source": [
        "#### 9.  Create a 3x3 matrix with values ranging from 0 to 8 (★☆☆) \n",
        "(**hint**: reshape)"
      ]
    },
    {
      "cell_type": "code",
      "execution_count": 10,
      "metadata": {
        "id": "VNPUl0s-gkPi",
        "colab": {
          "base_uri": "https://localhost:8080/"
        },
        "outputId": "00bc3382-1c1c-4750-b8d3-0a9bf9295615"
      },
      "outputs": [
        {
          "output_type": "execute_result",
          "data": {
            "text/plain": [
              "array([[0, 1, 2],\n",
              "       [3, 4, 5],\n",
              "       [6, 7, 8]])"
            ]
          },
          "metadata": {},
          "execution_count": 10
        }
      ],
      "source": [
        "np.arange(0,9).reshape(3,3)"
      ]
    },
    {
      "cell_type": "markdown",
      "metadata": {
        "id": "TysrdOX7gkPi"
      },
      "source": [
        "#### 10. Find indices of non-zero elements from \\[1,2,0,0,4,0\\] (★☆☆) \n",
        "(**hint**: np.nonzero)"
      ]
    },
    {
      "cell_type": "code",
      "execution_count": 11,
      "metadata": {
        "id": "AlKgUq2egkPj",
        "colab": {
          "base_uri": "https://localhost:8080/"
        },
        "outputId": "b1af6a17-c64f-4d25-eabe-2974fe6e6e6a"
      },
      "outputs": [
        {
          "output_type": "execute_result",
          "data": {
            "text/plain": [
              "(array([0, 1, 4]),)"
            ]
          },
          "metadata": {},
          "execution_count": 11
        }
      ],
      "source": [
        "x=[1,2,0,0,4,0]\n",
        "y=np.nonzero(x)\n",
        "y"
      ]
    },
    {
      "cell_type": "markdown",
      "metadata": {
        "id": "49z-ZDRPgkPj"
      },
      "source": [
        "#### 11. Create a 3x3 identity matrix (★☆☆) \n",
        "(**hint**: np.eye)"
      ]
    },
    {
      "cell_type": "code",
      "execution_count": 12,
      "metadata": {
        "id": "OHC7m7wtgkPj",
        "colab": {
          "base_uri": "https://localhost:8080/"
        },
        "outputId": "68401c9f-c00d-4f61-fb99-a8bcc4e40cc9"
      },
      "outputs": [
        {
          "output_type": "execute_result",
          "data": {
            "text/plain": [
              "array([[1., 0., 0.],\n",
              "       [0., 1., 0.],\n",
              "       [0., 0., 1.]])"
            ]
          },
          "metadata": {},
          "execution_count": 12
        }
      ],
      "source": [
        "x=np.eye(3)\n",
        "x"
      ]
    },
    {
      "cell_type": "markdown",
      "metadata": {
        "id": "lru-tBsQgkPk"
      },
      "source": [
        "#### 12. Create a 3x3x3 array with random values (★☆☆) \n",
        "(**hint**: np.random.random)"
      ]
    },
    {
      "cell_type": "code",
      "execution_count": 13,
      "metadata": {
        "collapsed": true,
        "id": "OV5XIzNogkPk",
        "colab": {
          "base_uri": "https://localhost:8080/"
        },
        "outputId": "7af3afdf-124f-4bb9-d4de-84f3180c0005"
      },
      "outputs": [
        {
          "output_type": "execute_result",
          "data": {
            "text/plain": [
              "array([[0.86750594, 0.25441542, 0.52203809],\n",
              "       [0.90319652, 0.41843627, 0.98585197],\n",
              "       [0.95105839, 0.68845143, 0.21840771]])"
            ]
          },
          "metadata": {},
          "execution_count": 13
        }
      ],
      "source": [
        "f=np.random.random((3,3))\n",
        "f"
      ]
    },
    {
      "cell_type": "markdown",
      "metadata": {
        "id": "aGP1_6pdgkPk"
      },
      "source": [
        "#### 13. Create a 10x10 array with random values and find the minimum and maximum values (★☆☆) \n",
        "(**hint**: min, max)"
      ]
    },
    {
      "cell_type": "code",
      "execution_count": 14,
      "metadata": {
        "id": "zG4eURuegkPk",
        "colab": {
          "base_uri": "https://localhost:8080/"
        },
        "outputId": "db568b75-7a26-4ae6-bbff-ce821396c894"
      },
      "outputs": [
        {
          "output_type": "stream",
          "name": "stdout",
          "text": [
            "0.011991150261590033\n",
            "0.9987471989030798\n"
          ]
        }
      ],
      "source": [
        "h=np.random.random((10,10))\n",
        "print(h.min())\n",
        "print(h.max())"
      ]
    },
    {
      "cell_type": "markdown",
      "metadata": {
        "id": "sQB33BZ0gkPl"
      },
      "source": [
        "#### 14. Create a random vector of size 30 and find the mean value (★☆☆) \n",
        "(**hint**: mean)"
      ]
    },
    {
      "cell_type": "code",
      "execution_count": 15,
      "metadata": {
        "id": "3qFL8rlAgkPl",
        "colab": {
          "base_uri": "https://localhost:8080/"
        },
        "outputId": "4ec1229f-870a-450a-ce7f-fcabf1a8497f"
      },
      "outputs": [
        {
          "output_type": "execute_result",
          "data": {
            "text/plain": [
              "0.5148513881011646"
            ]
          },
          "metadata": {},
          "execution_count": 15
        }
      ],
      "source": [
        "h=np.random.random(30)\n",
        "h.mean()"
      ]
    },
    {
      "cell_type": "markdown",
      "metadata": {
        "id": "a9mQiFHJgkPl"
      },
      "source": [
        "#### 15. Create a 2d array with 1 on the border and 0 inside (★☆☆) \n",
        "(**hint**: array\\[1:-1, 1:-1\\])"
      ]
    },
    {
      "cell_type": "code",
      "execution_count": 16,
      "metadata": {
        "id": "8TdsTGgYgkPl",
        "colab": {
          "base_uri": "https://localhost:8080/"
        },
        "outputId": "6f4f0e7f-782c-4b54-8ea6-c798462f9d28"
      },
      "outputs": [
        {
          "output_type": "execute_result",
          "data": {
            "text/plain": [
              "array([[1., 1., 1., 1., 1., 1., 1., 1., 1., 1.],\n",
              "       [1., 0., 0., 0., 0., 0., 0., 0., 0., 1.],\n",
              "       [1., 0., 0., 0., 0., 0., 0., 0., 0., 1.],\n",
              "       [1., 0., 0., 0., 0., 0., 0., 0., 0., 1.],\n",
              "       [1., 0., 0., 0., 0., 0., 0., 0., 0., 1.],\n",
              "       [1., 0., 0., 0., 0., 0., 0., 0., 0., 1.],\n",
              "       [1., 0., 0., 0., 0., 0., 0., 0., 0., 1.],\n",
              "       [1., 0., 0., 0., 0., 0., 0., 0., 0., 1.],\n",
              "       [1., 0., 0., 0., 0., 0., 0., 0., 0., 1.],\n",
              "       [1., 1., 1., 1., 1., 1., 1., 1., 1., 1.]])"
            ]
          },
          "metadata": {},
          "execution_count": 16
        }
      ],
      "source": [
        "x=np.ones((10,10))\n",
        "x[1:-1,1:-1]=0\n",
        "x"
      ]
    },
    {
      "cell_type": "markdown",
      "metadata": {
        "id": "cYX8SeWvgkPl"
      },
      "source": [
        "#### 16. How to add a border (filled with 0's) around an existing array? (★☆☆) \n",
        "(**hint**: np.pad)"
      ]
    },
    {
      "cell_type": "code",
      "execution_count": 17,
      "metadata": {
        "id": "2Om5joQcgkPm",
        "colab": {
          "base_uri": "https://localhost:8080/"
        },
        "outputId": "6dca265a-26cf-4cfc-8c7b-6d75e77266fd"
      },
      "outputs": [
        {
          "output_type": "execute_result",
          "data": {
            "text/plain": [
              "array([[0., 0., 0., 0., 0., 0., 0., 0., 0., 0., 0., 0.],\n",
              "       [0., 1., 1., 1., 1., 1., 1., 1., 1., 1., 1., 0.],\n",
              "       [0., 1., 1., 1., 1., 1., 1., 1., 1., 1., 1., 0.],\n",
              "       [0., 1., 1., 1., 1., 1., 1., 1., 1., 1., 1., 0.],\n",
              "       [0., 1., 1., 1., 1., 1., 1., 1., 1., 1., 1., 0.],\n",
              "       [0., 1., 1., 1., 1., 1., 1., 1., 1., 1., 1., 0.],\n",
              "       [0., 1., 1., 1., 1., 1., 1., 1., 1., 1., 1., 0.],\n",
              "       [0., 1., 1., 1., 1., 1., 1., 1., 1., 1., 1., 0.],\n",
              "       [0., 1., 1., 1., 1., 1., 1., 1., 1., 1., 1., 0.],\n",
              "       [0., 1., 1., 1., 1., 1., 1., 1., 1., 1., 1., 0.],\n",
              "       [0., 1., 1., 1., 1., 1., 1., 1., 1., 1., 1., 0.],\n",
              "       [0., 0., 0., 0., 0., 0., 0., 0., 0., 0., 0., 0.]])"
            ]
          },
          "metadata": {},
          "execution_count": 17
        }
      ],
      "source": [
        "x=np.ones((10,10))\n",
        "y=np.pad(x,pad_width=1)\n",
        "y"
      ]
    },
    {
      "cell_type": "markdown",
      "metadata": {
        "id": "2WqfD0YugkPm"
      },
      "source": [
        "#### 17. What is the result of the following expression? (★☆☆) \n",
        "(**hint**: NaN = not a number, inf = infinity)"
      ]
    },
    {
      "cell_type": "markdown",
      "metadata": {
        "id": "nZ8zB7sOgkPm"
      },
      "source": [
        "```python\n",
        "0 * np.nan\n",
        "np.nan == np.nan\n",
        "np.inf > np.nan\n",
        "np.nan - np.nan\n",
        "0.3 == 3 * 0.1\n",
        "```"
      ]
    },
    {
      "cell_type": "code",
      "execution_count": 18,
      "metadata": {
        "id": "ohWPQxi2gkPm",
        "colab": {
          "base_uri": "https://localhost:8080/"
        },
        "outputId": "5f52cc1e-1cbb-4dab-d48f-5a545b7e015a"
      },
      "outputs": [
        {
          "output_type": "execute_result",
          "data": {
            "text/plain": [
              "False"
            ]
          },
          "metadata": {},
          "execution_count": 18
        }
      ],
      "source": [
        "0 * np.nan\n",
        "np.nan == np.nan\n",
        "np.inf > np.nan\n",
        "np.nan - np.nan\n",
        "0.3 == 3 * 0.1"
      ]
    },
    {
      "cell_type": "markdown",
      "metadata": {
        "id": "UbrnV7ALgkPn"
      },
      "source": [
        "#### 18. Create a 5x5 matrix with values 1,2,3,4 just below the diagonal (★☆☆) \n",
        "(**hint**: np.diag)"
      ]
    },
    {
      "cell_type": "code",
      "execution_count": 19,
      "metadata": {
        "id": "51g9rvxggkPn",
        "colab": {
          "base_uri": "https://localhost:8080/"
        },
        "outputId": "d22b03fe-3392-4464-de88-4a2baf4d033c"
      },
      "outputs": [
        {
          "output_type": "execute_result",
          "data": {
            "text/plain": [
              "array([[0, 0, 0, 0, 0],\n",
              "       [1, 0, 0, 0, 0],\n",
              "       [0, 2, 0, 0, 0],\n",
              "       [0, 0, 3, 0, 0],\n",
              "       [0, 0, 0, 4, 0]])"
            ]
          },
          "metadata": {},
          "execution_count": 19
        }
      ],
      "source": [
        "x=np.diag([1,2,3,4],k=-1)\n",
        "x"
      ]
    },
    {
      "cell_type": "markdown",
      "metadata": {
        "id": "7rnge1C6gkPn"
      },
      "source": [
        "#### 19. Create a 8x8 matrix and fill it with a checkerboard pattern (★☆☆) \n",
        "(**hint**: array\\[::2\\])"
      ]
    },
    {
      "cell_type": "code",
      "execution_count": 20,
      "metadata": {
        "id": "G1SbuiOggkPn",
        "colab": {
          "base_uri": "https://localhost:8080/"
        },
        "outputId": "84407196-5bdb-4880-ae22-672b413a10b6"
      },
      "outputs": [
        {
          "output_type": "execute_result",
          "data": {
            "text/plain": [
              "array([[1, 0, 1, 0, 1, 0, 1, 0],\n",
              "       [0, 1, 0, 1, 0, 1, 0, 1],\n",
              "       [1, 0, 1, 0, 1, 0, 1, 0],\n",
              "       [0, 1, 0, 1, 0, 1, 0, 1],\n",
              "       [1, 0, 1, 0, 1, 0, 1, 0],\n",
              "       [0, 1, 0, 1, 0, 1, 0, 1],\n",
              "       [1, 0, 1, 0, 1, 0, 1, 0],\n",
              "       [0, 1, 0, 1, 0, 1, 0, 1]])"
            ]
          },
          "metadata": {},
          "execution_count": 20
        }
      ],
      "source": [
        "x = np.zeros((8,8),dtype=int)\n",
        "\n",
        "x[::2,::2] = 1\n",
        "x[::-2,::-2] = 1\n",
        "x"
      ]
    },
    {
      "cell_type": "markdown",
      "metadata": {
        "id": "s-LKkNAigkPn"
      },
      "source": [
        "#### 20. Consider a (6,7,8) shape array, what is the index (x,y,z) of the 100th element? \n",
        "(**hint**: np.unravel_index)"
      ]
    },
    {
      "cell_type": "code",
      "execution_count": 21,
      "metadata": {
        "id": "feCd91PzgkPo",
        "colab": {
          "base_uri": "https://localhost:8080/"
        },
        "outputId": "2c735394-e110-49c4-f4bb-3a59c2b03e8a"
      },
      "outputs": [
        {
          "output_type": "execute_result",
          "data": {
            "text/plain": [
              "(1, 5, 4)"
            ]
          },
          "metadata": {},
          "execution_count": 21
        }
      ],
      "source": [
        "np.unravel_index(100,(6,7,8))"
      ]
    },
    {
      "cell_type": "markdown",
      "metadata": {
        "id": "xFDXVZ8hgkPo"
      },
      "source": [
        "#### 21. Create a checkerboard 8x8 matrix using the tile function (★☆☆) \n",
        "(**hint**: np.tile)"
      ]
    },
    {
      "cell_type": "code",
      "execution_count": 22,
      "metadata": {
        "id": "0EmDEQI5gkPo",
        "colab": {
          "base_uri": "https://localhost:8080/"
        },
        "outputId": "f6292f05-fb69-4859-d540-117b0bb1cb71"
      },
      "outputs": [
        {
          "output_type": "execute_result",
          "data": {
            "text/plain": [
              "array([[1, 0, 1, ..., 0, 1, 0],\n",
              "       [0, 1, 0, ..., 1, 0, 1],\n",
              "       [1, 0, 1, ..., 0, 1, 0],\n",
              "       ...,\n",
              "       [0, 1, 0, ..., 1, 0, 1],\n",
              "       [1, 0, 1, ..., 0, 1, 0],\n",
              "       [0, 1, 0, ..., 1, 0, 1]])"
            ]
          },
          "metadata": {},
          "execution_count": 22
        }
      ],
      "source": [
        "a=np.zeros((8,8),dtype=int)\n",
        "a[::2,::2]=1\n",
        "a[::-2,::-2]=1\n",
        "np.tile(a,(4,4))"
      ]
    },
    {
      "cell_type": "code",
      "source": [
        ""
      ],
      "metadata": {
        "id": "LPPgbZ4uEZRG"
      },
      "execution_count": 22,
      "outputs": []
    },
    {
      "cell_type": "markdown",
      "metadata": {
        "id": "rILu2C_NgkPo"
      },
      "source": [
        "#### 22. Normalize a 5x5 random matrix (★☆☆) \n",
        "(**hint**: (x - min) / (max - min))"
      ]
    },
    {
      "cell_type": "code",
      "execution_count": 23,
      "metadata": {
        "id": "oMl4pHaGgkPp",
        "colab": {
          "base_uri": "https://localhost:8080/"
        },
        "outputId": "ee60b10f-fb38-4af4-d492-a91b0d26184d"
      },
      "outputs": [
        {
          "output_type": "execute_result",
          "data": {
            "text/plain": [
              "array([[-0.00250439,  0.22565215,  0.63497873,  0.94541023,  0.099736  ],\n",
              "       [ 0.57363724,  0.55880025,  0.58009375,  0.46373381,  0.87054961],\n",
              "       [ 0.02513252,  0.82411471,  0.91322428,  0.65824456,  0.34465096],\n",
              "       [ 0.17405254,  0.92277892,  0.15579335,  0.70633339,  0.81665863],\n",
              "       [ 0.92382652,  0.3964668 ,  0.24524216,  0.13252545,  0.20711786]])"
            ]
          },
          "metadata": {},
          "execution_count": 23
        }
      ],
      "source": [
        "a=np.random.random((5,5))\n",
        "max=a.max()\n",
        "min=a.min()\n",
        "normalize= a-min/(max-min)\n",
        "normalize"
      ]
    },
    {
      "cell_type": "code",
      "source": [
        "a"
      ],
      "metadata": {
        "colab": {
          "base_uri": "https://localhost:8080/"
        },
        "id": "gsLUj9QO9PZf",
        "outputId": "25ffbbff-91b5-43af-9a43-bc45978818f1"
      },
      "execution_count": 24,
      "outputs": [
        {
          "output_type": "execute_result",
          "data": {
            "text/plain": [
              "array([[0.04557798, 0.27373452, 0.6830611 , 0.99349259, 0.14781837],\n",
              "       [0.6217196 , 0.60688262, 0.62817611, 0.51181618, 0.91863197],\n",
              "       [0.07321489, 0.87219708, 0.96130664, 0.70632693, 0.39273333],\n",
              "       [0.22213491, 0.97086128, 0.20387572, 0.75441575, 0.864741  ],\n",
              "       [0.97190889, 0.44454917, 0.29332453, 0.18060782, 0.25520023]])"
            ]
          },
          "metadata": {},
          "execution_count": 24
        }
      ]
    },
    {
      "cell_type": "markdown",
      "metadata": {
        "id": "aj1cJHpfgkPp"
      },
      "source": [
        "#### 23. Create a custom dtype that describes a color as four unsigned bytes (RGBA) (★☆☆) \n",
        "(**hint**: np.dtype)"
      ]
    },
    {
      "cell_type": "code",
      "execution_count": 25,
      "metadata": {
        "id": "jjQ4_quGgkPp",
        "colab": {
          "base_uri": "https://localhost:8080/"
        },
        "outputId": "7c28eff2-1dba-449c-ab39-a86a6c4a3df1"
      },
      "outputs": [
        {
          "output_type": "execute_result",
          "data": {
            "text/plain": [
              "numpy.dtype"
            ]
          },
          "metadata": {},
          "execution_count": 25
        }
      ],
      "source": [
        "np.dtype"
      ]
    },
    {
      "cell_type": "code",
      "source": [
        ""
      ],
      "metadata": {
        "id": "g1QuT2dZFwCh"
      },
      "execution_count": 25,
      "outputs": []
    },
    {
      "cell_type": "markdown",
      "metadata": {
        "id": "to7sknDpgkPp"
      },
      "source": [
        "#### 24. Multiply a 5x3 matrix by a 3x2 matrix (real matrix product) (★☆☆) \n",
        "(**hint**: np.dot | @)"
      ]
    },
    {
      "cell_type": "code",
      "execution_count": 26,
      "metadata": {
        "id": "moRtzy0kgkPp",
        "colab": {
          "base_uri": "https://localhost:8080/"
        },
        "outputId": "56aad154-3f46-4c56-cdda-b4afd0e6e8d6"
      },
      "outputs": [
        {
          "output_type": "execute_result",
          "data": {
            "text/plain": [
              "array([[0.6519117 , 1.34363752],\n",
              "       [0.62862995, 1.47063228],\n",
              "       [0.49441513, 0.92369046],\n",
              "       [1.02837275, 2.03270343],\n",
              "       [0.3382939 , 1.02891244]])"
            ]
          },
          "metadata": {},
          "execution_count": 26
        }
      ],
      "source": [
        "a=np.random.random((5,3))\n",
        "b=np.random.random((3,2))\n",
        "np.dot(a,b)"
      ]
    },
    {
      "cell_type": "markdown",
      "metadata": {
        "id": "iDUESIV0gkPp"
      },
      "source": [
        "#### 25. Given a 1D array, negate all elements which are between 3 and 8, in place. (★☆☆) \n",
        "(**hint**: >, <=)"
      ]
    },
    {
      "cell_type": "code",
      "execution_count": 27,
      "metadata": {
        "id": "P_RJdKg6gkPq",
        "colab": {
          "base_uri": "https://localhost:8080/"
        },
        "outputId": "234f099a-1ff6-40ff-a725-c26d70fcd5cf"
      },
      "outputs": [
        {
          "output_type": "execute_result",
          "data": {
            "text/plain": [
              "array([0, 1, 2, 3, 4, 5, 6, 7, 8, 9])"
            ]
          },
          "metadata": {},
          "execution_count": 27
        }
      ],
      "source": [
        "s=np.arange(10)\n",
        "s"
      ]
    },
    {
      "cell_type": "code",
      "source": [
        "a=(s[s<3])\n",
        "b=(s[s>=8])\n",
        "con=np.concatenate((a,b))\n",
        "con"
      ],
      "metadata": {
        "colab": {
          "base_uri": "https://localhost:8080/"
        },
        "id": "xRxzB6d8BV5e",
        "outputId": "02769e4c-918e-4eaf-d7d3-9cd8dc709094"
      },
      "execution_count": 28,
      "outputs": [
        {
          "output_type": "execute_result",
          "data": {
            "text/plain": [
              "array([0, 1, 2, 8, 9])"
            ]
          },
          "metadata": {},
          "execution_count": 28
        }
      ]
    },
    {
      "cell_type": "markdown",
      "metadata": {
        "id": "GmKmZb1cgkPq"
      },
      "source": [
        "#### 26. What is the output of the following script? (★☆☆) \n",
        "(**hint**: np.sum)"
      ]
    },
    {
      "cell_type": "markdown",
      "metadata": {
        "id": "qpG3KViCgkPq"
      },
      "source": [
        "```python\n",
        "# Author: Jake VanderPlas\n",
        "\n",
        "print(sum(range(5),-1))\n",
        "from numpy import *\n",
        "print(sum(range(5),-1))\n",
        "```"
      ]
    },
    {
      "cell_type": "code",
      "execution_count": 29,
      "metadata": {
        "id": "x_skvdqagkPr",
        "colab": {
          "base_uri": "https://localhost:8080/"
        },
        "outputId": "8660b243-b879-4952-c004-10044ceb5c6a"
      },
      "outputs": [
        {
          "output_type": "stream",
          "name": "stdout",
          "text": [
            "9\n",
            "10\n"
          ]
        }
      ],
      "source": [
        "print(sum(range(5),-1))\n",
        "from numpy import *\n",
        "print(sum(range(5),-1))"
      ]
    },
    {
      "cell_type": "markdown",
      "metadata": {
        "id": "4htKJViNgkPr"
      },
      "source": [
        "#### 27. Consider an integer vector Z, which of these expressions are legal? (★☆☆)"
      ]
    },
    {
      "cell_type": "markdown",
      "metadata": {
        "id": "XZudS0c8gkPr"
      },
      "source": [
        "```python\n",
        "Z**Z\n",
        "2 << Z >> 2\n",
        "Z <- Z\n",
        "1j*Z\n",
        "Z/1/1\n",
        "Z<Z>Z\n",
        "```"
      ]
    },
    {
      "cell_type": "markdown",
      "metadata": {
        "id": "S8xOkaJ0gkPs"
      },
      "source": [
        "#### 28. What are the result of the following expressions?"
      ]
    },
    {
      "cell_type": "markdown",
      "metadata": {
        "id": "FKkF6UAKgkPs"
      },
      "source": [
        "```python\n",
        "np.array(0) / np.array(0)\n",
        "np.array(0) // np.array(0)\n",
        "np.array([np.nan]).astype(int).astype(float)\n",
        "```"
      ]
    },
    {
      "cell_type": "code",
      "execution_count": 30,
      "metadata": {
        "id": "MtTg-JdWgkPs",
        "colab": {
          "base_uri": "https://localhost:8080/"
        },
        "outputId": "72704ec9-547f-41f3-9995-c9591ffb5279"
      },
      "outputs": [
        {
          "output_type": "stream",
          "name": "stderr",
          "text": [
            "/usr/local/lib/python3.7/dist-packages/ipykernel_launcher.py:1: RuntimeWarning: invalid value encountered in true_divide\n",
            "  \"\"\"Entry point for launching an IPython kernel.\n",
            "/usr/local/lib/python3.7/dist-packages/ipykernel_launcher.py:2: RuntimeWarning: divide by zero encountered in floor_divide\n",
            "  \n"
          ]
        },
        {
          "output_type": "execute_result",
          "data": {
            "text/plain": [
              "array([-9.22337204e+18])"
            ]
          },
          "metadata": {},
          "execution_count": 30
        }
      ],
      "source": [
        "np.array(0) / np.array(0)\n",
        "np.array(0) // np.array(0)\n",
        "np.array([np.nan]).astype(int).astype(float)"
      ]
    },
    {
      "cell_type": "markdown",
      "metadata": {
        "id": "LHXfIHxwgkPs"
      },
      "source": [
        "#### 29. How to round away from zero a float array ? (★☆☆) \n",
        "(**hint**: np.uniform, np.copysign, np.ceil, np.abs)"
      ]
    },
    {
      "cell_type": "code",
      "execution_count": 31,
      "metadata": {
        "id": "KPfQUxrNgkPt",
        "colab": {
          "base_uri": "https://localhost:8080/"
        },
        "outputId": "5365f430-96a6-4dd1-b5cd-2ad01a1ec953"
      },
      "outputs": [
        {
          "output_type": "execute_result",
          "data": {
            "text/plain": [
              "array([1., 1., 1., 1., 1., 0., 0., 0., 1., 0.])"
            ]
          },
          "metadata": {},
          "execution_count": 31
        }
      ],
      "source": [
        "s=np.random.random((10))\n",
        "a=np.round(s)\n",
        "a"
      ]
    },
    {
      "cell_type": "code",
      "source": [
        "s=np.random.random((10))\n",
        "a=np.ceil(s)\n",
        "a"
      ],
      "metadata": {
        "colab": {
          "base_uri": "https://localhost:8080/"
        },
        "id": "TIsPHdl6jhyq",
        "outputId": "d1c5ea7f-ae22-4fa4-d0f4-11cad4cc68bb"
      },
      "execution_count": 32,
      "outputs": [
        {
          "output_type": "execute_result",
          "data": {
            "text/plain": [
              "array([1., 1., 1., 1., 1., 1., 1., 1., 1., 1.])"
            ]
          },
          "metadata": {},
          "execution_count": 32
        }
      ]
    },
    {
      "cell_type": "code",
      "source": [
        "s=np.random.random((10))\n",
        "a=np.abs(s)\n",
        "a"
      ],
      "metadata": {
        "colab": {
          "base_uri": "https://localhost:8080/"
        },
        "id": "EmTV4g56jnAw",
        "outputId": "4d285c11-364b-4b97-9f7a-8558a53b5178"
      },
      "execution_count": 33,
      "outputs": [
        {
          "output_type": "execute_result",
          "data": {
            "text/plain": [
              "array([0.40561225, 0.33911354, 0.73256941, 0.22543102, 0.08327208,\n",
              "       0.93362174, 0.20591093, 0.39221752, 0.24259729, 0.66448744])"
            ]
          },
          "metadata": {},
          "execution_count": 33
        }
      ]
    },
    {
      "cell_type": "markdown",
      "metadata": {
        "id": "mVSveY0dgkPt"
      },
      "source": [
        "#### 30. How to find common values between two arrays? (★☆☆) \n",
        "(**hint**: np.intersect1d)"
      ]
    },
    {
      "cell_type": "code",
      "execution_count": 34,
      "metadata": {
        "id": "jSeG8k1cgkPt",
        "colab": {
          "base_uri": "https://localhost:8080/"
        },
        "outputId": "0fe37932-45f3-495c-d688-53b211cbde36"
      },
      "outputs": [
        {
          "output_type": "stream",
          "name": "stdout",
          "text": [
            "[2 3 4 5]\n"
          ]
        }
      ],
      "source": [
        "s=np.array([1,2,3,4,5,6])\n",
        "f=np.array([2,5,8,4,3])\n",
        "print(np.intersect1d(s,f)) "
      ]
    },
    {
      "cell_type": "markdown",
      "metadata": {
        "id": "MoSR0f72gkPt"
      },
      "source": [
        "#### 31. How to ignore all numpy warnings (not recommended)? (★☆☆) \n",
        "(**hint**: np.seterr, np.errstate)"
      ]
    },
    {
      "cell_type": "code",
      "execution_count": 34,
      "metadata": {
        "id": "XyaQpyszgkPt"
      },
      "outputs": [],
      "source": [
        ""
      ]
    },
    {
      "cell_type": "markdown",
      "metadata": {
        "id": "e6QWBf7PgkPt"
      },
      "source": [
        "#### 32. Is the following expressions true? (★☆☆) \n",
        "(**hint**: imaginary number)"
      ]
    },
    {
      "cell_type": "markdown",
      "metadata": {
        "id": "m4GO7gjygkPu"
      },
      "source": [
        "```python\n",
        "np.sqrt(-1) == np.emath.sqrt(-1)\n",
        "```"
      ]
    },
    {
      "cell_type": "code",
      "execution_count": 35,
      "metadata": {
        "id": "NuTLqocRgkPu",
        "colab": {
          "base_uri": "https://localhost:8080/"
        },
        "outputId": "7ab821d5-6d24-4d51-999b-92990d94b623"
      },
      "outputs": [
        {
          "output_type": "stream",
          "name": "stderr",
          "text": [
            "/usr/local/lib/python3.7/dist-packages/ipykernel_launcher.py:1: RuntimeWarning: invalid value encountered in sqrt\n",
            "  \"\"\"Entry point for launching an IPython kernel.\n"
          ]
        },
        {
          "output_type": "execute_result",
          "data": {
            "text/plain": [
              "False"
            ]
          },
          "metadata": {},
          "execution_count": 35
        }
      ],
      "source": [
        "np.sqrt(-1) == np.emath.sqrt(-1)"
      ]
    },
    {
      "cell_type": "code",
      "source": [
        "np.sqrt(-1) "
      ],
      "metadata": {
        "colab": {
          "base_uri": "https://localhost:8080/"
        },
        "id": "u-u32mQPk97R",
        "outputId": "c8fae3c7-3872-48e2-d41d-a044608db511"
      },
      "execution_count": 36,
      "outputs": [
        {
          "output_type": "stream",
          "name": "stderr",
          "text": [
            "/usr/local/lib/python3.7/dist-packages/ipykernel_launcher.py:1: RuntimeWarning: invalid value encountered in sqrt\n",
            "  \"\"\"Entry point for launching an IPython kernel.\n"
          ]
        },
        {
          "output_type": "execute_result",
          "data": {
            "text/plain": [
              "nan"
            ]
          },
          "metadata": {},
          "execution_count": 36
        }
      ]
    },
    {
      "cell_type": "code",
      "source": [
        "np.emath.sqrt(-1)"
      ],
      "metadata": {
        "colab": {
          "base_uri": "https://localhost:8080/"
        },
        "id": "VKw7qGZtlAcG",
        "outputId": "b0c34af1-29cc-46f4-efee-dee707d0aa40"
      },
      "execution_count": 37,
      "outputs": [
        {
          "output_type": "execute_result",
          "data": {
            "text/plain": [
              "1j"
            ]
          },
          "metadata": {},
          "execution_count": 37
        }
      ]
    },
    {
      "cell_type": "markdown",
      "metadata": {
        "id": "gYHrbmLngkPu"
      },
      "source": [
        "#### 33. How to get the dates of yesterday, today and tomorrow? (★☆☆) \n",
        "(**hint**: np.datetime64, np.timedelta64)"
      ]
    },
    {
      "cell_type": "code",
      "execution_count": 38,
      "metadata": {
        "collapsed": true,
        "id": "EQPojJwVgkPu",
        "colab": {
          "base_uri": "https://localhost:8080/"
        },
        "outputId": "2c9191b1-020d-421b-b4e3-18faadbe98f6"
      },
      "outputs": [
        {
          "output_type": "execute_result",
          "data": {
            "text/plain": [
              "numpy.datetime64('2022-08-19')"
            ]
          },
          "metadata": {},
          "execution_count": 38
        }
      ],
      "source": [
        "np.datetime64('today','D')- np.timedelta64(1,'D')"
      ]
    },
    {
      "cell_type": "code",
      "source": [
        "np.datetime64('today','D')+ np.timedelta64(1,'D')"
      ],
      "metadata": {
        "colab": {
          "base_uri": "https://localhost:8080/"
        },
        "id": "AiIFgS59B88X",
        "outputId": "b11a4eaa-86b1-4fdd-8062-a6c0e75be132"
      },
      "execution_count": 39,
      "outputs": [
        {
          "output_type": "execute_result",
          "data": {
            "text/plain": [
              "numpy.datetime64('2022-08-21')"
            ]
          },
          "metadata": {},
          "execution_count": 39
        }
      ]
    },
    {
      "cell_type": "code",
      "source": [
        "np.datetime64('today','D')"
      ],
      "metadata": {
        "colab": {
          "base_uri": "https://localhost:8080/"
        },
        "id": "Pl5oIS_tBRne",
        "outputId": "e492d6f3-9eba-4bea-b66f-291891386463"
      },
      "execution_count": 40,
      "outputs": [
        {
          "output_type": "execute_result",
          "data": {
            "text/plain": [
              "numpy.datetime64('2022-08-20')"
            ]
          },
          "metadata": {},
          "execution_count": 40
        }
      ]
    },
    {
      "cell_type": "markdown",
      "metadata": {
        "id": "CeARsJtAgkPu"
      },
      "source": [
        "#### 34. How to get all the dates corresponding to the month of July 2016? (★★☆) \n",
        "(**hint**: np.arange(dtype=datetime64\\['D'\\]))"
      ]
    },
    {
      "cell_type": "code",
      "execution_count": 41,
      "metadata": {
        "id": "tjEwpyJMgkPv",
        "colab": {
          "base_uri": "https://localhost:8080/"
        },
        "outputId": "5f9ddb30-d5fd-4d64-ad2b-d9a1dd628dd4"
      },
      "outputs": [
        {
          "output_type": "execute_result",
          "data": {
            "text/plain": [
              "array(['2016-07-01', '2016-07-02', '2016-07-03', '2016-07-04',\n",
              "       '2016-07-05', '2016-07-06', '2016-07-07', '2016-07-08',\n",
              "       '2016-07-09', '2016-07-10', '2016-07-11', '2016-07-12',\n",
              "       '2016-07-13', '2016-07-14', '2016-07-15', '2016-07-16',\n",
              "       '2016-07-17', '2016-07-18', '2016-07-19', '2016-07-20',\n",
              "       '2016-07-21', '2016-07-22', '2016-07-23', '2016-07-24',\n",
              "       '2016-07-25', '2016-07-26', '2016-07-27', '2016-07-28',\n",
              "       '2016-07-29', '2016-07-30', '2016-07-31'], dtype='datetime64[D]')"
            ]
          },
          "metadata": {},
          "execution_count": 41
        }
      ],
      "source": [
        "np.arange('2016-07', '2016-08', dtype='datetime64[D]')"
      ]
    },
    {
      "cell_type": "markdown",
      "metadata": {
        "id": "EhE8W0UfgkPv"
      },
      "source": [
        "#### 35. How to compute ((A+B)\\*(-A/2)) in place (without copy)? (★★☆) \n",
        "(**hint**: np.add(out=), np.negative(out=), np.multiply(out=), np.divide(out=))"
      ]
    },
    {
      "cell_type": "code",
      "execution_count": 42,
      "metadata": {
        "id": "IubAUSN2gkPv"
      },
      "outputs": [],
      "source": [
        "A=3\n",
        "B=4"
      ]
    },
    {
      "cell_type": "code",
      "source": [
        "A = np.ones(3)*1\n",
        "B = np.ones(3)*2\n",
        "# C = np.ones(3)*3\n",
        "np.add(A,B,out=B)\n",
        "np.divide(A,2,out=A)\n",
        "np.negative(A,out=A)\n",
        "np.multiply(A,B,out=A)"
      ],
      "metadata": {
        "colab": {
          "base_uri": "https://localhost:8080/"
        },
        "id": "lV8S0-23c2DN",
        "outputId": "4f17ebd7-5414-4bd9-f63b-25a8b64bca2a"
      },
      "execution_count": 43,
      "outputs": [
        {
          "output_type": "execute_result",
          "data": {
            "text/plain": [
              "array([-1.5, -1.5, -1.5])"
            ]
          },
          "metadata": {},
          "execution_count": 43
        }
      ]
    },
    {
      "cell_type": "markdown",
      "metadata": {
        "id": "Z0HbP_3fgkPv"
      },
      "source": [
        "#### 36. Extract the integer part of a random array using 5 different methods (★★☆) \n",
        "(**hint**: %, np.floor, np.ceil, astype, np.trunc)"
      ]
    },
    {
      "cell_type": "code",
      "source": [
        "import numpy as np"
      ],
      "metadata": {
        "id": "D4L2UTMS1kYE"
      },
      "execution_count": 44,
      "outputs": []
    },
    {
      "cell_type": "code",
      "execution_count": 45,
      "metadata": {
        "id": "5rYu74scgkPv"
      },
      "outputs": [],
      "source": [
        "s=np.random.random(20)"
      ]
    },
    {
      "cell_type": "code",
      "source": [
        "s"
      ],
      "metadata": {
        "colab": {
          "base_uri": "https://localhost:8080/"
        },
        "id": "DG1E1YEw2rfP",
        "outputId": "5dae82ff-e1fe-4034-9f52-3fa391c475dc"
      },
      "execution_count": 46,
      "outputs": [
        {
          "output_type": "execute_result",
          "data": {
            "text/plain": [
              "array([0.33957171, 0.83005622, 0.49527752, 0.95457792, 0.66208623,\n",
              "       0.47377702, 0.39437863, 0.1131562 , 0.46835443, 0.18666201,\n",
              "       0.50554083, 0.20841736, 0.25343498, 0.10057837, 0.0579103 ,\n",
              "       0.25232388, 0.11504887, 0.6919568 , 0.93691925, 0.06276979])"
            ]
          },
          "metadata": {},
          "execution_count": 46
        }
      ]
    },
    {
      "cell_type": "code",
      "source": [
        "np.ceil(s)"
      ],
      "metadata": {
        "colab": {
          "base_uri": "https://localhost:8080/"
        },
        "id": "C3HLfYmVcua_",
        "outputId": "38d819ff-e24f-4ae8-9a2e-16e917e4a297"
      },
      "execution_count": 47,
      "outputs": [
        {
          "output_type": "execute_result",
          "data": {
            "text/plain": [
              "array([1., 1., 1., 1., 1., 1., 1., 1., 1., 1., 1., 1., 1., 1., 1., 1., 1.,\n",
              "       1., 1., 1.])"
            ]
          },
          "metadata": {},
          "execution_count": 47
        }
      ]
    },
    {
      "cell_type": "code",
      "source": [
        "s.astype(int)"
      ],
      "metadata": {
        "colab": {
          "base_uri": "https://localhost:8080/"
        },
        "id": "jY1fpoaQ2N9_",
        "outputId": "1a68d939-c2c2-426c-e960-85568f4b18cc"
      },
      "execution_count": 48,
      "outputs": [
        {
          "output_type": "execute_result",
          "data": {
            "text/plain": [
              "array([0, 0, 0, 0, 0, 0, 0, 0, 0, 0, 0, 0, 0, 0, 0, 0, 0, 0, 0, 0])"
            ]
          },
          "metadata": {},
          "execution_count": 48
        }
      ]
    },
    {
      "cell_type": "code",
      "source": [
        "np.trunc(s)"
      ],
      "metadata": {
        "colab": {
          "base_uri": "https://localhost:8080/"
        },
        "id": "-85JJl6R2ui4",
        "outputId": "9584c4fd-b6b7-47c4-9ec7-71886e64536a"
      },
      "execution_count": 49,
      "outputs": [
        {
          "output_type": "execute_result",
          "data": {
            "text/plain": [
              "array([0., 0., 0., 0., 0., 0., 0., 0., 0., 0., 0., 0., 0., 0., 0., 0., 0.,\n",
              "       0., 0., 0.])"
            ]
          },
          "metadata": {},
          "execution_count": 49
        }
      ]
    },
    {
      "cell_type": "code",
      "source": [
        "np.floor(s)"
      ],
      "metadata": {
        "colab": {
          "base_uri": "https://localhost:8080/"
        },
        "id": "ORFEY_ee2uXS",
        "outputId": "b0f56972-58cd-435a-b607-5d2721620b29"
      },
      "execution_count": 50,
      "outputs": [
        {
          "output_type": "execute_result",
          "data": {
            "text/plain": [
              "array([0., 0., 0., 0., 0., 0., 0., 0., 0., 0., 0., 0., 0., 0., 0., 0., 0.,\n",
              "       0., 0., 0.])"
            ]
          },
          "metadata": {},
          "execution_count": 50
        }
      ]
    },
    {
      "cell_type": "code",
      "source": [
        ""
      ],
      "metadata": {
        "id": "Bw8f8u1t3q2-"
      },
      "execution_count": 50,
      "outputs": []
    },
    {
      "cell_type": "markdown",
      "metadata": {
        "id": "tveBHXDNgkPv"
      },
      "source": [
        "#### 37. Create a 5x5 matrix with row values ranging from 0 to 4 (★★☆) \n",
        "(**hint**: np.arange)"
      ]
    },
    {
      "cell_type": "code",
      "execution_count": 51,
      "metadata": {
        "id": "GrJcdzhUgkPw",
        "colab": {
          "base_uri": "https://localhost:8080/"
        },
        "outputId": "7b4673c0-6437-4026-dd7a-a92b49a83da8"
      },
      "outputs": [
        {
          "output_type": "stream",
          "name": "stdout",
          "text": [
            "[[0. 1. 2. 3. 4.]\n",
            " [0. 1. 2. 3. 4.]\n",
            " [0. 1. 2. 3. 4.]\n",
            " [0. 1. 2. 3. 4.]\n",
            " [0. 1. 2. 3. 4.]]\n"
          ]
        }
      ],
      "source": [
        "a = np.zeros((5,5))\n",
        "a+= np.arange(5)\n",
        "print(a)"
      ]
    },
    {
      "cell_type": "markdown",
      "metadata": {
        "id": "u9NF383rgkPw"
      },
      "source": [
        "#### 38. Consider a generator function that generates 10 integers and use it to build an array (★☆☆) \n",
        "(**hint**: np.fromiter)"
      ]
    },
    {
      "cell_type": "code",
      "execution_count": 52,
      "metadata": {
        "id": "xsqggHvJgkPw",
        "colab": {
          "base_uri": "https://localhost:8080/"
        },
        "outputId": "5777645a-1dd5-46ea-e1ad-dc0595f06cdd"
      },
      "outputs": [
        {
          "output_type": "stream",
          "name": "stdout",
          "text": [
            "[ 0.  1.  2.  3.  4.  5.  6.  7.  8.  9. 10. 11. 12. 13. 14.]\n"
          ]
        }
      ],
      "source": [
        "def generate():\n",
        "  for n in range(15):\n",
        "    yield(n) \n",
        "Z = np.fromiter(generate(),dtype=float)\n",
        "print(Z)"
      ]
    },
    {
      "cell_type": "markdown",
      "metadata": {
        "id": "7WScw7DWgkPx"
      },
      "source": [
        "#### 39. Create a vector of size 10 with values ranging from 0 to 1, both excluded (★★☆) \n",
        "(**hint**: np.linspace)"
      ]
    },
    {
      "cell_type": "code",
      "execution_count": 53,
      "metadata": {
        "id": "_RXpasFMgkPx",
        "colab": {
          "base_uri": "https://localhost:8080/"
        },
        "outputId": "e2933d0b-3725-4829-b9d9-2306892a9275"
      },
      "outputs": [
        {
          "output_type": "execute_result",
          "data": {
            "text/plain": [
              "array([0.        , 0.11111111, 0.22222222, 0.33333333, 0.44444444,\n",
              "       0.55555556, 0.66666667, 0.77777778, 0.88888889, 1.        ])"
            ]
          },
          "metadata": {},
          "execution_count": 53
        }
      ],
      "source": [
        "np.linspace(0,1, num=10, endpoint=True, dtype=None, axis=0)"
      ]
    },
    {
      "cell_type": "markdown",
      "metadata": {
        "id": "R8Va_TMfgkPx"
      },
      "source": [
        "#### 40. Create a random vector of size 10 and sort it (★★☆) \n",
        "(**hint**: sort)"
      ]
    },
    {
      "cell_type": "code",
      "execution_count": 54,
      "metadata": {
        "id": "q4c_Z4bzgkP1",
        "colab": {
          "base_uri": "https://localhost:8080/"
        },
        "outputId": "52b98d7e-be2a-43ab-c2cb-249a2712b2a5"
      },
      "outputs": [
        {
          "output_type": "execute_result",
          "data": {
            "text/plain": [
              "array([0.03088446, 0.03464633, 0.13513188, 0.19181418, 0.26589218,\n",
              "       0.76522601, 0.78326715, 0.81170505, 0.86749332, 0.88010793])"
            ]
          },
          "metadata": {},
          "execution_count": 54
        }
      ],
      "source": [
        "s=np.random.random(10)\n",
        "s.sort()\n",
        "s"
      ]
    },
    {
      "cell_type": "markdown",
      "metadata": {
        "id": "Up3p4spBgkP1"
      },
      "source": [
        "#### 41. How to sum a small array faster than np.sum? (★★☆) \n",
        "(**hint**: np.add.reduce)"
      ]
    },
    {
      "cell_type": "code",
      "execution_count": 55,
      "metadata": {
        "id": "YnUlKay0gkP1",
        "colab": {
          "base_uri": "https://localhost:8080/"
        },
        "outputId": "0f805d9d-6c63-402e-832d-812c5ea5f37e"
      },
      "outputs": [
        {
          "output_type": "execute_result",
          "data": {
            "text/plain": [
              "10"
            ]
          },
          "metadata": {},
          "execution_count": 55
        }
      ],
      "source": [
        "s=np.arange(5)\n",
        "np.add.reduce(s)"
      ]
    },
    {
      "cell_type": "code",
      "source": [
        "np.sum(s)"
      ],
      "metadata": {
        "colab": {
          "base_uri": "https://localhost:8080/"
        },
        "id": "9rihnjKrfws2",
        "outputId": "1c0afdfb-44d8-4440-a8e4-c17f6acca61d"
      },
      "execution_count": 56,
      "outputs": [
        {
          "output_type": "execute_result",
          "data": {
            "text/plain": [
              "10"
            ]
          },
          "metadata": {},
          "execution_count": 56
        }
      ]
    },
    {
      "cell_type": "markdown",
      "metadata": {
        "id": "QfRPiBGzgkP1"
      },
      "source": [
        "#### 42. Consider two random array A and B, check if they are equal (★★☆) \n",
        "(**hint**: np.allclose, np.array\\_equal)"
      ]
    },
    {
      "cell_type": "code",
      "execution_count": 57,
      "metadata": {
        "id": "CASeWH8agkP2"
      },
      "outputs": [],
      "source": [
        "a=np.random.random(10)\n",
        "b=np.random.random(10)"
      ]
    },
    {
      "cell_type": "code",
      "source": [
        "np.allclose(a, b)"
      ],
      "metadata": {
        "colab": {
          "base_uri": "https://localhost:8080/"
        },
        "id": "ckp36pbaf-R6",
        "outputId": "4f95f45d-910f-49af-d29f-9d407cf020d0"
      },
      "execution_count": 58,
      "outputs": [
        {
          "output_type": "execute_result",
          "data": {
            "text/plain": [
              "False"
            ]
          },
          "metadata": {},
          "execution_count": 58
        }
      ]
    },
    {
      "cell_type": "code",
      "source": [
        "np.array_equal(a,b)"
      ],
      "metadata": {
        "colab": {
          "base_uri": "https://localhost:8080/"
        },
        "id": "4uIWOxHpgSzE",
        "outputId": "bb090288-ea87-43b4-f258-c0aa1c341334"
      },
      "execution_count": 59,
      "outputs": [
        {
          "output_type": "execute_result",
          "data": {
            "text/plain": [
              "False"
            ]
          },
          "metadata": {},
          "execution_count": 59
        }
      ]
    },
    {
      "cell_type": "markdown",
      "metadata": {
        "id": "HQEg6bgNgkP2"
      },
      "source": [
        "#### 43. Make an array immutable (read-only) (★★☆) \n",
        "(**hint**: flags.writeable)"
      ]
    },
    {
      "cell_type": "code",
      "execution_count": 60,
      "metadata": {
        "id": "R9M35I5PgkP2",
        "colab": {
          "base_uri": "https://localhost:8080/"
        },
        "outputId": "355d492b-c83d-4df2-98a9-8ef5ccaf3297"
      },
      "outputs": [
        {
          "output_type": "execute_result",
          "data": {
            "text/plain": [
              "True"
            ]
          },
          "metadata": {},
          "execution_count": 60
        }
      ],
      "source": [
        "a=np.random.random(10)\n",
        "a.flags.writeable"
      ]
    },
    {
      "cell_type": "code",
      "source": [
        "a[0]=6\n",
        "a"
      ],
      "metadata": {
        "colab": {
          "base_uri": "https://localhost:8080/"
        },
        "id": "J-d5u29ZglW6",
        "outputId": "166f27e2-cba3-4805-fa69-f03222fddf99"
      },
      "execution_count": 61,
      "outputs": [
        {
          "output_type": "execute_result",
          "data": {
            "text/plain": [
              "array([6.        , 0.88921411, 0.16164493, 0.82780087, 0.58303334,\n",
              "       0.31357134, 0.68324543, 0.9281587 , 0.63888312, 0.66957371])"
            ]
          },
          "metadata": {},
          "execution_count": 61
        }
      ]
    },
    {
      "cell_type": "markdown",
      "metadata": {
        "id": "Rj9oeYNSgkP2"
      },
      "source": [
        "#### 44. Consider a random 10x2 matrix representing cartesian coordinates, convert them to polar coordinates (★★☆) \n",
        "(**hint**: np.sqrt, np.arctan2)"
      ]
    },
    {
      "cell_type": "code",
      "execution_count": 64,
      "metadata": {
        "id": "SvC8baY9gkP3",
        "colab": {
          "base_uri": "https://localhost:8080/"
        },
        "outputId": "3fb9b605-1a05-4602-9791-c378a552bc1c"
      },
      "outputs": [
        {
          "output_type": "execute_result",
          "data": {
            "text/plain": [
              "array([[0.28066864, 0.73264858],\n",
              "       [0.59953218, 0.65161251],\n",
              "       [0.87116985, 0.93056978],\n",
              "       [0.33024232, 0.45855494],\n",
              "       [0.24115968, 0.86567403],\n",
              "       [0.75368791, 0.202982  ],\n",
              "       [0.38723733, 0.63413838],\n",
              "       [0.86033909, 0.11764867],\n",
              "       [0.15558357, 0.42592746],\n",
              "       [0.19408617, 0.70140447]])"
            ]
          },
          "metadata": {},
          "execution_count": 64
        }
      ],
      "source": [
        "s=np.random.random(20).reshape(10,2)\n",
        "s"
      ]
    },
    {
      "cell_type": "code",
      "source": [
        "np.sqrt(s)"
      ],
      "metadata": {
        "id": "qwFO5gK1hhjB",
        "colab": {
          "base_uri": "https://localhost:8080/"
        },
        "outputId": "e9e6f66a-7967-4a86-edeb-809ac28f0a82"
      },
      "execution_count": 65,
      "outputs": [
        {
          "output_type": "execute_result",
          "data": {
            "text/plain": [
              "array([[0.52978169, 0.85594894],\n",
              "       [0.77429463, 0.80722519],\n",
              "       [0.9333648 , 0.96466045],\n",
              "       [0.57466713, 0.67716685],\n",
              "       [0.49108012, 0.93041605],\n",
              "       [0.86815201, 0.45053523],\n",
              "       [0.62228396, 0.79632806],\n",
              "       [0.92754465, 0.34299951],\n",
              "       [0.39444083, 0.65263118],\n",
              "       [0.44055212, 0.83749894]])"
            ]
          },
          "metadata": {},
          "execution_count": 65
        }
      ]
    },
    {
      "cell_type": "code",
      "source": [
        "Z = np.random.random((10,2))\n",
        "X,Y = Z[:,0], Z[:,1]\n",
        "\n",
        "np.arctan2(X,Y)"
      ],
      "metadata": {
        "id": "pR2jwlgDiMyR",
        "colab": {
          "base_uri": "https://localhost:8080/"
        },
        "outputId": "0fbf9f37-1629-478e-c421-056fdb0c0fd5"
      },
      "execution_count": 66,
      "outputs": [
        {
          "output_type": "execute_result",
          "data": {
            "text/plain": [
              "array([0.51613492, 1.43617515, 1.29537386, 1.24728353, 1.04721772,\n",
              "       0.56649002, 0.36301023, 0.12324961, 0.90139075, 0.87066358])"
            ]
          },
          "metadata": {},
          "execution_count": 66
        }
      ]
    },
    {
      "cell_type": "markdown",
      "metadata": {
        "id": "JstUkvoTgkP3"
      },
      "source": [
        "#### 45. Create random vector of size 10 and replace the maximum value by 0 (★★☆) \n",
        "(**hint**: argmax)"
      ]
    },
    {
      "cell_type": "code",
      "execution_count": 67,
      "metadata": {
        "id": "X2exHvk0gkP3",
        "colab": {
          "base_uri": "https://localhost:8080/"
        },
        "outputId": "1553b557-724e-40e4-ad71-20704f39080b"
      },
      "outputs": [
        {
          "output_type": "execute_result",
          "data": {
            "text/plain": [
              "array([0, 1, 2, 3, 4, 5, 6, 7, 8, 9])"
            ]
          },
          "metadata": {},
          "execution_count": 67
        }
      ],
      "source": [
        "s=np.arange(10)\n",
        "s"
      ]
    },
    {
      "cell_type": "code",
      "source": [
        "s[s.argmax()]=0"
      ],
      "metadata": {
        "id": "UZQK9exxlBqv"
      },
      "execution_count": 68,
      "outputs": []
    },
    {
      "cell_type": "code",
      "source": [
        "s"
      ],
      "metadata": {
        "id": "H-cU6G1km2QY",
        "colab": {
          "base_uri": "https://localhost:8080/"
        },
        "outputId": "76aa32e7-634b-4406-8f37-472ad3ee2895"
      },
      "execution_count": 69,
      "outputs": [
        {
          "output_type": "execute_result",
          "data": {
            "text/plain": [
              "array([0, 1, 2, 3, 4, 5, 6, 7, 8, 0])"
            ]
          },
          "metadata": {},
          "execution_count": 69
        }
      ]
    },
    {
      "cell_type": "markdown",
      "metadata": {
        "id": "dUq84mgIgkP3"
      },
      "source": [
        "#### 46. Create a structured array with `x` and `y` coordinates covering the \\[0,1\\]x\\[0,1\\] area (★★☆) \n",
        "(**hint**: np.meshgrid)"
      ]
    },
    {
      "cell_type": "code",
      "execution_count": 70,
      "metadata": {
        "id": "RhhXZHx0gkP3",
        "colab": {
          "base_uri": "https://localhost:8080/"
        },
        "outputId": "70e0a603-00fc-40bc-bc45-4185b5b71265"
      },
      "outputs": [
        {
          "output_type": "execute_result",
          "data": {
            "text/plain": [
              "(array([[0., 0., 0., 0., 0.],\n",
              "        [0., 0., 0., 0., 0.],\n",
              "        [0., 0., 0., 0., 0.],\n",
              "        [0., 0., 0., 0., 0.],\n",
              "        [0., 0., 0., 0., 0.]]), [('x', int), ('y', int)])"
            ]
          },
          "metadata": {},
          "execution_count": 70
        }
      ],
      "source": [
        "a=np.zeros((5,5))\n",
        "a,[('x',int),('y',int)]\n"
      ]
    },
    {
      "cell_type": "code",
      "source": [
        "s = np.zeros((5,5), [('x',int),('y',int)])\n",
        "s['x']=np.random.random(25).reshape(5,5)\n",
        "s"
      ],
      "metadata": {
        "id": "l80hb5A8vqXK",
        "colab": {
          "base_uri": "https://localhost:8080/"
        },
        "outputId": "9294c7ae-0f8f-4186-c4b1-ab5b4c89e98c"
      },
      "execution_count": 71,
      "outputs": [
        {
          "output_type": "execute_result",
          "data": {
            "text/plain": [
              "array([[(0, 0), (0, 0), (0, 0), (0, 0), (0, 0)],\n",
              "       [(0, 0), (0, 0), (0, 0), (0, 0), (0, 0)],\n",
              "       [(0, 0), (0, 0), (0, 0), (0, 0), (0, 0)],\n",
              "       [(0, 0), (0, 0), (0, 0), (0, 0), (0, 0)],\n",
              "       [(0, 0), (0, 0), (0, 0), (0, 0), (0, 0)]],\n",
              "      dtype=[('x', '<i8'), ('y', '<i8')])"
            ]
          },
          "metadata": {},
          "execution_count": 71
        }
      ]
    },
    {
      "cell_type": "code",
      "source": [
        "s['x']=np.arange(25).reshape(5,5)\n",
        "s['x']"
      ],
      "metadata": {
        "id": "TNb4bUklwpl2",
        "colab": {
          "base_uri": "https://localhost:8080/"
        },
        "outputId": "c0ef75d0-ef0d-4650-e8c1-ab9d5152d927"
      },
      "execution_count": 72,
      "outputs": [
        {
          "output_type": "execute_result",
          "data": {
            "text/plain": [
              "array([[ 0,  1,  2,  3,  4],\n",
              "       [ 5,  6,  7,  8,  9],\n",
              "       [10, 11, 12, 13, 14],\n",
              "       [15, 16, 17, 18, 19],\n",
              "       [20, 21, 22, 23, 24]])"
            ]
          },
          "metadata": {},
          "execution_count": 72
        }
      ]
    },
    {
      "cell_type": "code",
      "source": [
        "s['y']=np.arange(25,50).reshape(5,5)\n",
        "s['y']"
      ],
      "metadata": {
        "id": "3cYKR3TowRpc",
        "colab": {
          "base_uri": "https://localhost:8080/"
        },
        "outputId": "1cd36a6d-42ee-4bb1-96fa-aec5b64f5b96"
      },
      "execution_count": 73,
      "outputs": [
        {
          "output_type": "execute_result",
          "data": {
            "text/plain": [
              "array([[25, 26, 27, 28, 29],\n",
              "       [30, 31, 32, 33, 34],\n",
              "       [35, 36, 37, 38, 39],\n",
              "       [40, 41, 42, 43, 44],\n",
              "       [45, 46, 47, 48, 49]])"
            ]
          },
          "metadata": {},
          "execution_count": 73
        }
      ]
    },
    {
      "cell_type": "code",
      "source": [
        "s"
      ],
      "metadata": {
        "id": "Ilac-zZ7w51B",
        "colab": {
          "base_uri": "https://localhost:8080/"
        },
        "outputId": "8a5c7205-306e-4df2-ec33-d02fafee3336"
      },
      "execution_count": 74,
      "outputs": [
        {
          "output_type": "execute_result",
          "data": {
            "text/plain": [
              "array([[( 0, 25), ( 1, 26), ( 2, 27), ( 3, 28), ( 4, 29)],\n",
              "       [( 5, 30), ( 6, 31), ( 7, 32), ( 8, 33), ( 9, 34)],\n",
              "       [(10, 35), (11, 36), (12, 37), (13, 38), (14, 39)],\n",
              "       [(15, 40), (16, 41), (17, 42), (18, 43), (19, 44)],\n",
              "       [(20, 45), (21, 46), (22, 47), (23, 48), (24, 49)]],\n",
              "      dtype=[('x', '<i8'), ('y', '<i8')])"
            ]
          },
          "metadata": {},
          "execution_count": 74
        }
      ]
    },
    {
      "cell_type": "code",
      "source": [
        "s['x'], s['y'] = np.meshgrid(np.linspace(0,26,5),\n",
        "                             np.linspace(25,51,5))\n",
        "s"
      ],
      "metadata": {
        "id": "2qCNl0huw7Ou",
        "colab": {
          "base_uri": "https://localhost:8080/"
        },
        "outputId": "69e809f0-999e-473b-e7ee-a1839ca0c904"
      },
      "execution_count": 75,
      "outputs": [
        {
          "output_type": "execute_result",
          "data": {
            "text/plain": [
              "array([[( 0, 25), ( 6, 25), (13, 25), (19, 25), (26, 25)],\n",
              "       [( 0, 31), ( 6, 31), (13, 31), (19, 31), (26, 31)],\n",
              "       [( 0, 38), ( 6, 38), (13, 38), (19, 38), (26, 38)],\n",
              "       [( 0, 44), ( 6, 44), (13, 44), (19, 44), (26, 44)],\n",
              "       [( 0, 51), ( 6, 51), (13, 51), (19, 51), (26, 51)]],\n",
              "      dtype=[('x', '<i8'), ('y', '<i8')])"
            ]
          },
          "metadata": {},
          "execution_count": 75
        }
      ]
    },
    {
      "cell_type": "markdown",
      "metadata": {
        "id": "8FbSmEwygkP3"
      },
      "source": [
        "####  47. Given two arrays, X and Y, construct the Cauchy matrix C (Cij =1/(xi - yj)) \n",
        "(**hint**: np.subtract.outer)"
      ]
    },
    {
      "cell_type": "code",
      "execution_count": 76,
      "metadata": {
        "id": "-l59_VIZgkP4"
      },
      "outputs": [],
      "source": [
        "x = np.array([1,2,3,4]) \n",
        "y = np.array([5,6,7]) "
      ]
    },
    {
      "cell_type": "code",
      "source": [
        "c= 1.0 / np.subtract.outer(x,y)\n"
      ],
      "metadata": {
        "id": "idXJkpqhdAwk"
      },
      "execution_count": 77,
      "outputs": []
    },
    {
      "cell_type": "code",
      "source": [
        "c"
      ],
      "metadata": {
        "id": "k5RAgkOidEKa",
        "colab": {
          "base_uri": "https://localhost:8080/"
        },
        "outputId": "7a38486b-87a2-42bb-bc8f-1c0b1ba24fc9"
      },
      "execution_count": 78,
      "outputs": [
        {
          "output_type": "execute_result",
          "data": {
            "text/plain": [
              "array([[-0.25      , -0.2       , -0.16666667],\n",
              "       [-0.33333333, -0.25      , -0.2       ],\n",
              "       [-0.5       , -0.33333333, -0.25      ],\n",
              "       [-1.        , -0.5       , -0.33333333]])"
            ]
          },
          "metadata": {},
          "execution_count": 78
        }
      ]
    },
    {
      "cell_type": "markdown",
      "metadata": {
        "id": "ZQojRQe_gkP4"
      },
      "source": [
        "#### 48. Print the minimum and maximum representable value for each numpy scalar type (★★☆) \n",
        "(**hint**: np.iinfo, np.finfo, eps)"
      ]
    },
    {
      "cell_type": "code",
      "execution_count": 79,
      "metadata": {
        "id": "nZJwLPRQgkP4",
        "colab": {
          "base_uri": "https://localhost:8080/"
        },
        "outputId": "4976f7cb-3bfe-4082-da36-20f447e0484b"
      },
      "outputs": [
        {
          "output_type": "execute_result",
          "data": {
            "text/plain": [
              "array([1, 2, 3, 4, 5, 6])"
            ]
          },
          "metadata": {},
          "execution_count": 79
        }
      ],
      "source": [
        "np.set_printoptions(threshold=3)\n",
        "np.array([1,2,3,4,5,6])\n",
        "\n"
      ]
    },
    {
      "cell_type": "code",
      "source": [
        "np.set_printoptions(precision=4)\n",
        "np.array([1.123456789])"
      ],
      "metadata": {
        "id": "tkMF0xGViO7n",
        "colab": {
          "base_uri": "https://localhost:8080/"
        },
        "outputId": "d82b7372-a8c5-4a2a-afa1-a5ac3d4c554c"
      },
      "execution_count": 80,
      "outputs": [
        {
          "output_type": "execute_result",
          "data": {
            "text/plain": [
              "array([1.1235])"
            ]
          },
          "metadata": {},
          "execution_count": 80
        }
      ]
    },
    {
      "cell_type": "code",
      "source": [
        "np.set_printoptions(threshold=3)\n",
        "Z = np.zeros((16,16))\n",
        "print(Z)"
      ],
      "metadata": {
        "id": "_6b2qFxKh9bz",
        "colab": {
          "base_uri": "https://localhost:8080/"
        },
        "outputId": "bdae1e2e-90fd-4f23-bfd7-e9deed7d4cf1"
      },
      "execution_count": 81,
      "outputs": [
        {
          "output_type": "stream",
          "name": "stdout",
          "text": [
            "[[0. 0. 0. ... 0. 0. 0.]\n",
            " [0. 0. 0. ... 0. 0. 0.]\n",
            " [0. 0. 0. ... 0. 0. 0.]\n",
            " ...\n",
            " [0. 0. 0. ... 0. 0. 0.]\n",
            " [0. 0. 0. ... 0. 0. 0.]\n",
            " [0. 0. 0. ... 0. 0. 0.]]\n"
          ]
        }
      ]
    },
    {
      "cell_type": "markdown",
      "metadata": {
        "id": "eXPJyYz5gkP4"
      },
      "source": [
        "#### 49. How to print all the values of an array? (★★☆) \n",
        "(**hint**: np.set\\_printoptions)"
      ]
    },
    {
      "cell_type": "code",
      "execution_count": 82,
      "metadata": {
        "id": "klGPGDjFgkP4",
        "colab": {
          "base_uri": "https://localhost:8080/"
        },
        "outputId": "7ac65f29-a002-4ccf-cb8c-afce101e8e53"
      },
      "outputs": [
        {
          "output_type": "stream",
          "name": "stdout",
          "text": [
            "[ 0  1  2 ... 47 48 49]\n"
          ]
        }
      ],
      "source": [
        "np.set_printoptions(threshold=3,suppress=True)\n",
        "Z = np.arange(50)\n",
        "print(Z)"
      ]
    },
    {
      "cell_type": "code",
      "source": [
        "eps = np.finfo(float).eps\n",
        "eps"
      ],
      "metadata": {
        "id": "aVFlIh2gn3D-",
        "colab": {
          "base_uri": "https://localhost:8080/"
        },
        "outputId": "c1db8960-1091-4e29-def3-314d593d7f10"
      },
      "execution_count": 83,
      "outputs": [
        {
          "output_type": "execute_result",
          "data": {
            "text/plain": [
              "2.220446049250313e-16"
            ]
          },
          "metadata": {},
          "execution_count": 83
        }
      ]
    },
    {
      "cell_type": "markdown",
      "metadata": {
        "id": "XjoJalOngkP5"
      },
      "source": [
        "#### 50. How to find the closest value (to a given scalar) in a vector? (★★☆)\n",
        "\n",
        "\n",
        "\n",
        "\n",
        "\n",
        "\n",
        "\n",
        "\n",
        "\n",
        "\n",
        "\n",
        "\n",
        "\n",
        "(**hint**: argmin)"
      ]
    },
    {
      "cell_type": "code",
      "source": [
        "Z = np.arange(100)\n",
        "Z"
      ],
      "metadata": {
        "id": "b1qCqMBluS-B",
        "colab": {
          "base_uri": "https://localhost:8080/"
        },
        "outputId": "d557cb02-c270-485c-dc9b-1bd35589fc54"
      },
      "execution_count": 84,
      "outputs": [
        {
          "output_type": "execute_result",
          "data": {
            "text/plain": [
              "array([ 0,  1,  2, ..., 97, 98, 99])"
            ]
          },
          "metadata": {},
          "execution_count": 84
        }
      ]
    },
    {
      "cell_type": "code",
      "source": [
        "Z.argmin()"
      ],
      "metadata": {
        "id": "vMB1HEfAz06q",
        "colab": {
          "base_uri": "https://localhost:8080/"
        },
        "outputId": "8584514c-8c78-4be2-8115-498b936eb2d1"
      },
      "execution_count": 85,
      "outputs": [
        {
          "output_type": "execute_result",
          "data": {
            "text/plain": [
              "0"
            ]
          },
          "metadata": {},
          "execution_count": 85
        }
      ]
    },
    {
      "cell_type": "code",
      "source": [
        "v = np.random.uniform(0,100)\n",
        "v"
      ],
      "metadata": {
        "id": "pOOYzbNGuV2K",
        "colab": {
          "base_uri": "https://localhost:8080/"
        },
        "outputId": "280b239b-7fcd-4790-e1e2-3d1d1d32d7f5"
      },
      "execution_count": 86,
      "outputs": [
        {
          "output_type": "execute_result",
          "data": {
            "text/plain": [
              "7.30866652232629"
            ]
          },
          "metadata": {},
          "execution_count": 86
        }
      ]
    },
    {
      "cell_type": "code",
      "source": [
        "print(Z-v)"
      ],
      "metadata": {
        "id": "QsQpr6ZSxXDl",
        "colab": {
          "base_uri": "https://localhost:8080/"
        },
        "outputId": "ab63e1b6-2633-4d55-f3a7-040ca9e85ac5"
      },
      "execution_count": 87,
      "outputs": [
        {
          "output_type": "stream",
          "name": "stdout",
          "text": [
            "[-7.3087 -6.3087 -5.3087 ... 89.6913 90.6913 91.6913]\n"
          ]
        }
      ]
    },
    {
      "cell_type": "code",
      "source": [
        "np.abs(Z-v)"
      ],
      "metadata": {
        "id": "xUo2qWATxbNa",
        "colab": {
          "base_uri": "https://localhost:8080/"
        },
        "outputId": "be72dd53-a0e4-43ac-bb23-6dc5e3f5639d"
      },
      "execution_count": 88,
      "outputs": [
        {
          "output_type": "execute_result",
          "data": {
            "text/plain": [
              "array([ 7.3087,  6.3087,  5.3087, ..., 89.6913, 90.6913, 91.6913])"
            ]
          },
          "metadata": {},
          "execution_count": 88
        }
      ]
    },
    {
      "cell_type": "code",
      "source": [
        "a=np.abs(Z-v)\n",
        "a"
      ],
      "metadata": {
        "id": "a7Suimwus76Q",
        "colab": {
          "base_uri": "https://localhost:8080/"
        },
        "outputId": "0808e236-6fdb-4100-cf7c-6e2350a9e37f"
      },
      "execution_count": 89,
      "outputs": [
        {
          "output_type": "execute_result",
          "data": {
            "text/plain": [
              "array([ 7.3087,  6.3087,  5.3087, ..., 89.6913, 90.6913, 91.6913])"
            ]
          },
          "metadata": {},
          "execution_count": 89
        }
      ]
    },
    {
      "cell_type": "code",
      "source": [
        "b=a.argmin()\n",
        "b"
      ],
      "metadata": {
        "id": "lbHrTYBsuGqQ",
        "colab": {
          "base_uri": "https://localhost:8080/"
        },
        "outputId": "43b7919e-2164-4a0d-ecc9-9443ed49e27b"
      },
      "execution_count": 90,
      "outputs": [
        {
          "output_type": "execute_result",
          "data": {
            "text/plain": [
              "7"
            ]
          },
          "metadata": {},
          "execution_count": 90
        }
      ]
    },
    {
      "cell_type": "code",
      "source": [
        "Z[b]"
      ],
      "metadata": {
        "id": "24meWIVduO1V",
        "colab": {
          "base_uri": "https://localhost:8080/"
        },
        "outputId": "c2849c2c-6aad-42ed-d70c-5bfb6a1ae33f"
      },
      "execution_count": 91,
      "outputs": [
        {
          "output_type": "execute_result",
          "data": {
            "text/plain": [
              "7"
            ]
          },
          "metadata": {},
          "execution_count": 91
        }
      ]
    },
    {
      "cell_type": "markdown",
      "metadata": {
        "id": "qgVNLpDogkP5"
      },
      "source": [
        "#### 51. Create a structured array representing a position (x,y) and a color (r,g,b) (★★☆) \n",
        "(**hint**: dtype)"
      ]
    },
    {
      "cell_type": "code",
      "execution_count": 92,
      "metadata": {
        "id": "KDszJgjPgkP5",
        "colab": {
          "base_uri": "https://localhost:8080/"
        },
        "outputId": "4f7204bf-fd74-4db3-81c4-80cce2ff2302"
      },
      "outputs": [
        {
          "output_type": "execute_result",
          "data": {
            "text/plain": [
              "array(54)"
            ]
          },
          "metadata": {},
          "execution_count": 92
        }
      ],
      "source": [
        "np.array(54)"
      ]
    },
    {
      "cell_type": "code",
      "source": [
        "np.array([1,2,3,4,5])"
      ],
      "metadata": {
        "id": "V_bPV8EP6TsP",
        "colab": {
          "base_uri": "https://localhost:8080/"
        },
        "outputId": "fd74f7a2-bb8c-48f0-dc35-4d60177591f8"
      },
      "execution_count": 93,
      "outputs": [
        {
          "output_type": "execute_result",
          "data": {
            "text/plain": [
              "array([1, 2, 3, 4, 5])"
            ]
          },
          "metadata": {},
          "execution_count": 93
        }
      ]
    },
    {
      "cell_type": "code",
      "source": [
        "np.array([[1,2,3,4,5],[1,2,3,4,5]])"
      ],
      "metadata": {
        "id": "6id2LPD86ZOK",
        "colab": {
          "base_uri": "https://localhost:8080/"
        },
        "outputId": "57a01223-60b2-4d5e-80a2-c6e52e3d8762"
      },
      "execution_count": 94,
      "outputs": [
        {
          "output_type": "execute_result",
          "data": {
            "text/plain": [
              "array([[1, 2, 3, 4, 5],\n",
              "       [1, 2, 3, 4, 5]])"
            ]
          },
          "metadata": {},
          "execution_count": 94
        }
      ]
    },
    {
      "cell_type": "code",
      "source": [
        "Z = np.zeros(10, [ ('position', [ ('x', float, 3),\n",
        "                                  ('y', float, 2)]),\n",
        "                   ('color',    [ ('r', float, 1),\n",
        "                                  ('g', float, 1),\n",
        "                                  ('b', float, 1)])])\n",
        "print(Z)"
      ],
      "metadata": {
        "id": "PZ6V4Tk96tsH",
        "colab": {
          "base_uri": "https://localhost:8080/"
        },
        "outputId": "7e23360b-883a-4081-dc2f-38dafea25291"
      },
      "execution_count": 95,
      "outputs": [
        {
          "output_type": "stream",
          "name": "stdout",
          "text": [
            "[(([0., 0., 0.], [0., 0.]), (0., 0., 0.))\n",
            " (([0., 0., 0.], [0., 0.]), (0., 0., 0.))\n",
            " (([0., 0., 0.], [0., 0.]), (0., 0., 0.)) ...\n",
            " (([0., 0., 0.], [0., 0.]), (0., 0., 0.))\n",
            " (([0., 0., 0.], [0., 0.]), (0., 0., 0.))\n",
            " (([0., 0., 0.], [0., 0.]), (0., 0., 0.))]\n"
          ]
        },
        {
          "output_type": "stream",
          "name": "stderr",
          "text": [
            "/usr/local/lib/python3.7/dist-packages/ipykernel_launcher.py:5: FutureWarning: Passing (type, 1) or '1type' as a synonym of type is deprecated; in a future version of numpy, it will be understood as (type, (1,)) / '(1,)type'.\n",
            "  \"\"\"\n"
          ]
        }
      ]
    },
    {
      "cell_type": "markdown",
      "metadata": {
        "id": "71bnsb72gkP5"
      },
      "source": [
        "#### 52. Consider a random vector with shape (100,2) representing coordinates, find point by point distances (★★☆) \n",
        "(**hint**: np.atleast\\_2d, T, np.sqrt)"
      ]
    },
    {
      "cell_type": "code",
      "execution_count": 96,
      "metadata": {
        "id": "4lP5mxAggkP6",
        "colab": {
          "base_uri": "https://localhost:8080/"
        },
        "outputId": "07553206-7e74-43a8-c0d9-d3d89f714a41"
      },
      "outputs": [
        {
          "output_type": "execute_result",
          "data": {
            "text/plain": [
              "array([0.8951, 0.0856, 0.2377, ..., 0.4652, 0.3997, 0.2265])"
            ]
          },
          "metadata": {},
          "execution_count": 96
        }
      ],
      "source": [
        "s=np.random.random(200)\n",
        "s"
      ]
    },
    {
      "cell_type": "code",
      "source": [
        "a=np.atleast_2d(s)\n",
        "a"
      ],
      "metadata": {
        "id": "8wMnrJMO8fbg",
        "colab": {
          "base_uri": "https://localhost:8080/"
        },
        "outputId": "eeb1e978-8c0b-4c81-9381-e13cb3188a34"
      },
      "execution_count": 97,
      "outputs": [
        {
          "output_type": "execute_result",
          "data": {
            "text/plain": [
              "array([[0.8951, 0.0856, 0.2377, ..., 0.4652, 0.3997, 0.2265]])"
            ]
          },
          "metadata": {},
          "execution_count": 97
        }
      ]
    },
    {
      "cell_type": "code",
      "source": [
        "X,Y = np.atleast_2d(a[:,0], a[:,1])\n",
        "# print(X,Y)\n",
        "d=X.T\n",
        "\n",
        "g=Y.T\n",
        "\n",
        "\n",
        "s1=((X-d)**2)\n",
        "s2=((Y-g)**2)\n",
        "f=s1+s2\n",
        "np.sqrt(f)"
      ],
      "metadata": {
        "id": "4LomT9GKBqjL",
        "colab": {
          "base_uri": "https://localhost:8080/"
        },
        "outputId": "67a12097-3481-49be-d458-9231929d926c"
      },
      "execution_count": 98,
      "outputs": [
        {
          "output_type": "execute_result",
          "data": {
            "text/plain": [
              "array([[0.]])"
            ]
          },
          "metadata": {},
          "execution_count": 98
        }
      ]
    },
    {
      "cell_type": "markdown",
      "metadata": {
        "id": "KiBFCPexgkP6"
      },
      "source": [
        "#### 53. How to convert a float (32 bits) array into an integer (32 bits) in place? \n",
        "(**hint**: astype(copy=False))"
      ]
    },
    {
      "cell_type": "code",
      "execution_count": 99,
      "metadata": {
        "id": "XaNHz9CqgkP6",
        "colab": {
          "base_uri": "https://localhost:8080/"
        },
        "outputId": "c24e2a21-31f2-4a93-b94f-febe0848c75b"
      },
      "outputs": [
        {
          "output_type": "execute_result",
          "data": {
            "text/plain": [
              "array([0., 1., 2., ..., 7., 8., 9.], dtype=float32)"
            ]
          },
          "metadata": {},
          "execution_count": 99
        }
      ],
      "source": [
        "s=np.arange(10,dtype=np.float32)\n",
        "s\n"
      ]
    },
    {
      "cell_type": "code",
      "source": [
        "f=s.astype(dtype=np.int32,copy=False)\n",
        "f"
      ],
      "metadata": {
        "id": "fxNqLk9IHER1",
        "colab": {
          "base_uri": "https://localhost:8080/"
        },
        "outputId": "e50f00cb-4191-4478-9ade-6a920af66a5d"
      },
      "execution_count": 100,
      "outputs": [
        {
          "output_type": "execute_result",
          "data": {
            "text/plain": [
              "array([0, 1, 2, ..., 7, 8, 9], dtype=int32)"
            ]
          },
          "metadata": {},
          "execution_count": 100
        }
      ]
    },
    {
      "cell_type": "markdown",
      "metadata": {
        "id": "hl4KORXhgkP6"
      },
      "source": [
        "#### 54. How to read the following file? (★★☆) \n",
        "(**hint**: np.genfromtxt)"
      ]
    },
    {
      "cell_type": "markdown",
      "metadata": {
        "id": "spRpTdVZgkP6"
      },
      "source": [
        "```\n",
        "1, 2, 3, 4, 5\n",
        "6,  ,  , 7, 8\n",
        " ,  , 9,10,11\n",
        "```"
      ]
    },
    {
      "cell_type": "code",
      "execution_count": 102,
      "metadata": {
        "id": "RsJ-9kmqgkP7",
        "colab": {
          "base_uri": "https://localhost:8080/"
        },
        "outputId": "0232e3f4-a680-4c9b-b43e-01505914e8b4"
      },
      "outputs": [
        {
          "output_type": "stream",
          "name": "stdout",
          "text": [
            "[[ 1  2  3  4  5]\n",
            " [ 6 -1 -1  7  8]\n",
            " [-1 -1  9 10 11]]\n"
          ]
        },
        {
          "output_type": "stream",
          "name": "stderr",
          "text": [
            "/usr/local/lib/python3.7/dist-packages/ipykernel_launcher.py:8: DeprecationWarning: `np.int` is a deprecated alias for the builtin `int`. To silence this warning, use `int` by itself. Doing this will not modify any behavior and is safe. When replacing `np.int`, you may wish to use e.g. `np.int64` or `np.int32` to specify the precision. If you wish to review your current use, check the release note link for additional information.\n",
            "Deprecated in NumPy 1.20; for more details and guidance: https://numpy.org/devdocs/release/1.20.0-notes.html#deprecations\n",
            "  \n"
          ]
        }
      ],
      "source": [
        "from io import StringIO\n",
        "\n",
        "\n",
        "s = StringIO('''1, 2, 3, 4, 5\n",
        "                6,  ,  , 7, 8\n",
        "                 ,  , 9,10,11\n",
        "''')\n",
        "Z = np.genfromtxt(s, delimiter=\",\", dtype=np.int)\n",
        "print(Z)"
      ]
    },
    {
      "cell_type": "markdown",
      "metadata": {
        "id": "snf5o8JEgkP7"
      },
      "source": [
        "#### 55. What is the equivalent of enumerate for numpy arrays? (★★☆) \n",
        "(**hint**: np.ndenumerate, np.ndindex)"
      ]
    },
    {
      "cell_type": "code",
      "execution_count": 103,
      "metadata": {
        "id": "RbWYGq5CgkP7",
        "colab": {
          "base_uri": "https://localhost:8080/"
        },
        "outputId": "17a5cbbd-eb83-4e9c-eb56-1bec1c27d98a"
      },
      "outputs": [
        {
          "output_type": "execute_result",
          "data": {
            "text/plain": [
              "array([[10, 11],\n",
              "       [12, 13],\n",
              "       [14, 15],\n",
              "       [16, 17],\n",
              "       [18, 19]])"
            ]
          },
          "metadata": {},
          "execution_count": 103
        }
      ],
      "source": [
        "z=np.arange(10,20).reshape(5,2)\n",
        "z"
      ]
    },
    {
      "cell_type": "code",
      "source": [
        "for i, j in np.ndenumerate(z):\n",
        "    print(i, j)"
      ],
      "metadata": {
        "id": "BpJ6iZEaI1r4",
        "colab": {
          "base_uri": "https://localhost:8080/"
        },
        "outputId": "9273efb0-b722-4fe7-e817-4ed38f625749"
      },
      "execution_count": 104,
      "outputs": [
        {
          "output_type": "stream",
          "name": "stdout",
          "text": [
            "(0, 0) 10\n",
            "(0, 1) 11\n",
            "(1, 0) 12\n",
            "(1, 1) 13\n",
            "(2, 0) 14\n",
            "(2, 1) 15\n",
            "(3, 0) 16\n",
            "(3, 1) 17\n",
            "(4, 0) 18\n",
            "(4, 1) 19\n"
          ]
        }
      ]
    },
    {
      "cell_type": "code",
      "source": [
        "Z = np.arange(9).reshape(3,3)\n",
        "for index, value in np.ndenumerate(Z):\n",
        "    print(index, value)\n",
        "for index in np.ndindex(Z.shape):\n",
        "    print(index, Z[index])"
      ],
      "metadata": {
        "id": "Tbr4x_JwJD5W",
        "colab": {
          "base_uri": "https://localhost:8080/"
        },
        "outputId": "e9e0a2a8-1df9-4c20-88d0-edf4ca74641a"
      },
      "execution_count": 106,
      "outputs": [
        {
          "output_type": "stream",
          "name": "stdout",
          "text": [
            "(0, 0) 0\n",
            "(0, 1) 1\n",
            "(0, 2) 2\n",
            "(1, 0) 3\n",
            "(1, 1) 4\n",
            "(1, 2) 5\n",
            "(2, 0) 6\n",
            "(2, 1) 7\n",
            "(2, 2) 8\n",
            "(0, 0) 0\n",
            "(0, 1) 1\n",
            "(0, 2) 2\n",
            "(1, 0) 3\n",
            "(1, 1) 4\n",
            "(1, 2) 5\n",
            "(2, 0) 6\n",
            "(2, 1) 7\n",
            "(2, 2) 8\n"
          ]
        }
      ]
    },
    {
      "cell_type": "markdown",
      "metadata": {
        "id": "iDNAJp_igkP7"
      },
      "source": [
        "#### 56. Generate a generic 2D Gaussian-like array (★★☆) \n",
        "(**hint**: np.meshgrid, np.exp)"
      ]
    },
    {
      "cell_type": "code",
      "execution_count": 107,
      "metadata": {
        "id": "U2Nqq8r0gkP7",
        "colab": {
          "base_uri": "https://localhost:8080/"
        },
        "outputId": "60e8ab95-b0e9-443f-f16f-c82ab0f8d526"
      },
      "outputs": [
        {
          "output_type": "stream",
          "name": "stdout",
          "text": [
            "[[0.3679 0.4482 0.5198 ... 0.5198 0.4482 0.3679]\n",
            " [0.4482 0.5461 0.6333 ... 0.6333 0.5461 0.4482]\n",
            " [0.5198 0.6333 0.7344 ... 0.7344 0.6333 0.5198]\n",
            " ...\n",
            " [0.5198 0.6333 0.7344 ... 0.7344 0.6333 0.5198]\n",
            " [0.4482 0.5461 0.6333 ... 0.6333 0.5461 0.4482]\n",
            " [0.3679 0.4482 0.5198 ... 0.5198 0.4482 0.3679]]\n"
          ]
        }
      ],
      "source": [
        "X, Y = np.meshgrid(np.linspace(-1,1,10), np.linspace(-1,1,10))\n",
        "D = np.sqrt(X*X+Y*Y)\n",
        "sigma, mu = 1.0, 0.0\n",
        "G = np.exp(-( (D-mu)**2 / ( 2.0 * sigma**2 ) ) )\n",
        "print(G)"
      ]
    },
    {
      "cell_type": "markdown",
      "metadata": {
        "id": "Bh6JxVjwgkP7"
      },
      "source": [
        "#### 57. How to randomly place p elements in a 2D array? (★★☆) \n",
        "(**hint**: np.put, np.random.choice)"
      ]
    },
    {
      "cell_type": "code",
      "execution_count": 108,
      "metadata": {
        "id": "qEwFg3hFgkP7"
      },
      "outputs": [],
      "source": [
        "n=10\n",
        "p=3"
      ]
    },
    {
      "cell_type": "code",
      "source": [
        "z=np.arange(10,20).reshape(5,2)\n",
        "z"
      ],
      "metadata": {
        "id": "GpeUln5_NR6T",
        "colab": {
          "base_uri": "https://localhost:8080/"
        },
        "outputId": "74217012-8c9b-442e-eb6a-d45e49087c1a"
      },
      "execution_count": 109,
      "outputs": [
        {
          "output_type": "execute_result",
          "data": {
            "text/plain": [
              "array([[10, 11],\n",
              "       [12, 13],\n",
              "       [14, 15],\n",
              "       [16, 17],\n",
              "       [18, 19]])"
            ]
          },
          "metadata": {},
          "execution_count": 109
        }
      ]
    },
    {
      "cell_type": "code",
      "source": [
        "np.put(z,[2,5,6],[22])\n"
      ],
      "metadata": {
        "id": "EXvmKJJGR4re"
      },
      "execution_count": 110,
      "outputs": []
    },
    {
      "cell_type": "code",
      "source": [
        "z"
      ],
      "metadata": {
        "id": "PBVQlveNS948",
        "colab": {
          "base_uri": "https://localhost:8080/"
        },
        "outputId": "2c3de227-06fe-4768-8bea-ff624da1a345"
      },
      "execution_count": 111,
      "outputs": [
        {
          "output_type": "execute_result",
          "data": {
            "text/plain": [
              "array([[10, 11],\n",
              "       [22, 13],\n",
              "       [14, 22],\n",
              "       [22, 17],\n",
              "       [18, 19]])"
            ]
          },
          "metadata": {},
          "execution_count": 111
        }
      ]
    },
    {
      "cell_type": "code",
      "source": [
        "np.random.choice(5, 6,6)"
      ],
      "metadata": {
        "id": "pSW6wpVpTIHW",
        "colab": {
          "base_uri": "https://localhost:8080/"
        },
        "outputId": "950b956b-43c3-4918-b230-fc3abddd18e3"
      },
      "execution_count": 112,
      "outputs": [
        {
          "output_type": "execute_result",
          "data": {
            "text/plain": [
              "array([1, 0, 0, 2, 0, 0])"
            ]
          },
          "metadata": {},
          "execution_count": 112
        }
      ]
    },
    {
      "cell_type": "markdown",
      "metadata": {
        "id": "GbypQrtFgkP8"
      },
      "source": [
        "#### 58. Subtract the mean of each row of a matrix (★★☆) \n",
        "(**hint**: mean(axis=,keepdims=))"
      ]
    },
    {
      "cell_type": "code",
      "execution_count": 113,
      "metadata": {
        "id": "9ac4338BgkP8",
        "colab": {
          "base_uri": "https://localhost:8080/"
        },
        "outputId": "6e6eb030-caf7-4e0d-e883-26f9563ed087"
      },
      "outputs": [
        {
          "output_type": "execute_result",
          "data": {
            "text/plain": [
              "array([[ 0,  1,  2, ...,  7,  8,  9],\n",
              "       [10, 11, 12, ..., 17, 18, 19],\n",
              "       [20, 21, 22, ..., 27, 28, 29],\n",
              "       [30, 31, 32, ..., 37, 38, 39],\n",
              "       [40, 41, 42, ..., 47, 48, 49]])"
            ]
          },
          "metadata": {},
          "execution_count": 113
        }
      ],
      "source": [
        "a=np.arange(50).reshape(5,10)\n",
        "a"
      ]
    },
    {
      "cell_type": "code",
      "source": [
        "np.mean(a)"
      ],
      "metadata": {
        "id": "AWIV17jxaQLc",
        "colab": {
          "base_uri": "https://localhost:8080/"
        },
        "outputId": "dc9b970c-ea9b-426c-acc0-72b0a6fb597d"
      },
      "execution_count": 114,
      "outputs": [
        {
          "output_type": "execute_result",
          "data": {
            "text/plain": [
              "24.5"
            ]
          },
          "metadata": {},
          "execution_count": 114
        }
      ]
    },
    {
      "cell_type": "code",
      "source": [
        "x=np.mean(a,axis=1,keepdims=True)\n",
        "x"
      ],
      "metadata": {
        "id": "rBgZUVsJag1h",
        "colab": {
          "base_uri": "https://localhost:8080/"
        },
        "outputId": "da6c19a6-07b1-4362-e32a-cf61f380f3b3"
      },
      "execution_count": 115,
      "outputs": [
        {
          "output_type": "execute_result",
          "data": {
            "text/plain": [
              "array([[ 4.5],\n",
              "       [14.5],\n",
              "       [24.5],\n",
              "       [34.5],\n",
              "       [44.5]])"
            ]
          },
          "metadata": {},
          "execution_count": 115
        }
      ]
    },
    {
      "cell_type": "code",
      "source": [
        "np.subtract(a,x)"
      ],
      "metadata": {
        "id": "GfF9Ge4lawrX",
        "colab": {
          "base_uri": "https://localhost:8080/"
        },
        "outputId": "429cdb9d-6866-4fd6-f90c-4c60689f441e"
      },
      "execution_count": 116,
      "outputs": [
        {
          "output_type": "execute_result",
          "data": {
            "text/plain": [
              "array([[-4.5, -3.5, -2.5, ...,  2.5,  3.5,  4.5],\n",
              "       [-4.5, -3.5, -2.5, ...,  2.5,  3.5,  4.5],\n",
              "       [-4.5, -3.5, -2.5, ...,  2.5,  3.5,  4.5],\n",
              "       [-4.5, -3.5, -2.5, ...,  2.5,  3.5,  4.5],\n",
              "       [-4.5, -3.5, -2.5, ...,  2.5,  3.5,  4.5]])"
            ]
          },
          "metadata": {},
          "execution_count": 116
        }
      ]
    },
    {
      "cell_type": "markdown",
      "metadata": {
        "id": "ARlH6okEgkP8"
      },
      "source": [
        "#### 59. How to sort an array by the nth column? (★★☆) \n",
        "(**hint**: argsort)"
      ]
    },
    {
      "cell_type": "code",
      "execution_count": 117,
      "metadata": {
        "id": "V0yy06J5gkP8",
        "colab": {
          "base_uri": "https://localhost:8080/"
        },
        "outputId": "52a2b9d6-112d-426e-b979-478a8d4e3c6d"
      },
      "outputs": [
        {
          "output_type": "execute_result",
          "data": {
            "text/plain": [
              "array([[0.5365, 0.9511, 0.6803],\n",
              "       [0.0104, 0.2739, 0.9942],\n",
              "       [0.5209, 0.0945, 0.3013],\n",
              "       [0.3637, 0.0771, 0.4149],\n",
              "       [0.3166, 0.121 , 0.8452]])"
            ]
          },
          "metadata": {},
          "execution_count": 117
        }
      ],
      "source": [
        "a=np.random.random(15).reshape(5,3)\n",
        "a"
      ]
    },
    {
      "cell_type": "code",
      "source": [
        "a[a[:,2].argsort()]"
      ],
      "metadata": {
        "id": "pwCn81BSeiGA",
        "colab": {
          "base_uri": "https://localhost:8080/"
        },
        "outputId": "98381ee6-442d-4757-edc3-943145d6e69a"
      },
      "execution_count": 118,
      "outputs": [
        {
          "output_type": "execute_result",
          "data": {
            "text/plain": [
              "array([[0.5209, 0.0945, 0.3013],\n",
              "       [0.3637, 0.0771, 0.4149],\n",
              "       [0.5365, 0.9511, 0.6803],\n",
              "       [0.3166, 0.121 , 0.8452],\n",
              "       [0.0104, 0.2739, 0.9942]])"
            ]
          },
          "metadata": {},
          "execution_count": 118
        }
      ]
    },
    {
      "cell_type": "markdown",
      "metadata": {
        "id": "sa5zraL-gkP8"
      },
      "source": [
        "#### 60. How to tell if a given 2D array has null columns? (★★☆) \n",
        "(**hint**: any, ~)"
      ]
    },
    {
      "cell_type": "code",
      "execution_count": 119,
      "metadata": {
        "id": "wAKxze-HgkP8",
        "colab": {
          "base_uri": "https://localhost:8080/"
        },
        "outputId": "52d364d8-06c6-4663-f413-c5394c0b2faa"
      },
      "outputs": [
        {
          "output_type": "execute_result",
          "data": {
            "text/plain": [
              "array([0.2733, 0.635 , 0.0473, ..., 0.0686, 0.3715, 0.2827])"
            ]
          },
          "metadata": {},
          "execution_count": 119
        }
      ],
      "source": [
        "a=np.random.random(10)\n",
        "a"
      ]
    },
    {
      "cell_type": "code",
      "source": [
        "print((~a.any(axis=0).any()))\n"
      ],
      "metadata": {
        "id": "hPIYz6oA6IrG",
        "colab": {
          "base_uri": "https://localhost:8080/"
        },
        "outputId": "2bb1e36c-1d52-4fc4-cec7-d812210dc33f"
      },
      "execution_count": 120,
      "outputs": [
        {
          "output_type": "stream",
          "name": "stdout",
          "text": [
            "False\n"
          ]
        }
      ]
    },
    {
      "cell_type": "code",
      "source": [
        "s=(~a.any(axis=0).any())\n",
        "s"
      ],
      "metadata": {
        "id": "kpIopfTr66XQ",
        "colab": {
          "base_uri": "https://localhost:8080/"
        },
        "outputId": "1eab26e7-0000-4c7f-b97a-477050fefbd6"
      },
      "execution_count": 121,
      "outputs": [
        {
          "output_type": "execute_result",
          "data": {
            "text/plain": [
              "False"
            ]
          },
          "metadata": {},
          "execution_count": 121
        }
      ]
    },
    {
      "cell_type": "markdown",
      "metadata": {
        "id": "DY8WAwxLgkP8"
      },
      "source": [
        "#### 61. Find the nearest value from a given value in an array (★★☆) \n",
        "(**hint**: np.abs, argmin, flat)"
      ]
    },
    {
      "cell_type": "code",
      "execution_count": 122,
      "metadata": {
        "id": "k3jiEpzogkP9",
        "colab": {
          "base_uri": "https://localhost:8080/"
        },
        "outputId": "2f769b03-49c0-4346-fd64-6dacf440cb69"
      },
      "outputs": [
        {
          "output_type": "execute_result",
          "data": {
            "text/plain": [
              "0"
            ]
          },
          "metadata": {},
          "execution_count": 122
        }
      ],
      "source": [
        "a=[np.arange(5,35)]\n",
        "s=np.array(a)\n",
        "s.argmin()\n"
      ]
    },
    {
      "cell_type": "markdown",
      "metadata": {
        "id": "s_JZC4QUgkP9"
      },
      "source": [
        "#### 62. Considering two arrays with shape (1,3) and (3,1), how to compute their sum using an iterator? (★★☆) \n",
        "(**hint**: np.nditer)"
      ]
    },
    {
      "cell_type": "code",
      "execution_count": 123,
      "metadata": {
        "id": "1JqFYJPigkP9",
        "colab": {
          "base_uri": "https://localhost:8080/"
        },
        "outputId": "7923cea4-692f-4ca3-91b3-984cc25227f3"
      },
      "outputs": [
        {
          "output_type": "stream",
          "name": "stdout",
          "text": [
            "[[1 2 3]]\n",
            "[[4]\n",
            " [5]\n",
            " [6]]\n"
          ]
        }
      ],
      "source": [
        "a=[1,2,3]\n",
        "b=[4,5,6]\n",
        "s=np.array(a).reshape(1,3)\n",
        "print(s)\n",
        "f=np.array(b).reshape(3,1)\n",
        "print(f)\n"
      ]
    },
    {
      "cell_type": "code",
      "source": [
        "g=np.nditer([s,f,None])\n",
        "for x,y,z in g:\n",
        "  z[...]=x+y\n",
        "print(g.operands[2])"
      ],
      "metadata": {
        "id": "KIV3_QEriOfS",
        "colab": {
          "base_uri": "https://localhost:8080/"
        },
        "outputId": "670e7f2d-5eac-49cb-ab65-4c48f0ccecec"
      },
      "execution_count": 124,
      "outputs": [
        {
          "output_type": "stream",
          "name": "stdout",
          "text": [
            "[[5 6 7]\n",
            " [6 7 8]\n",
            " [7 8 9]]\n"
          ]
        }
      ]
    },
    {
      "cell_type": "code",
      "source": [
        "for x,y in np.nditer([s,f]):\n",
        "  print(x+y)"
      ],
      "metadata": {
        "id": "4PWDLgG4lJeP",
        "colab": {
          "base_uri": "https://localhost:8080/"
        },
        "outputId": "bc1f94a7-8cae-40a2-f6f5-82348bc2be75"
      },
      "execution_count": 125,
      "outputs": [
        {
          "output_type": "stream",
          "name": "stdout",
          "text": [
            "5\n",
            "6\n",
            "7\n",
            "6\n",
            "7\n",
            "8\n",
            "7\n",
            "8\n",
            "9\n"
          ]
        }
      ]
    },
    {
      "cell_type": "code",
      "source": [
        "def iter_add_py(x, y, out=None):\n",
        "    addop = np.add\n",
        "    it = np.nditer([x, y, out], [],\n",
        "                [['readonly'], ['readonly'], ['writeonly','allocate']])\n",
        "    with it:\n",
        "        for (a, b, c) in it:\n",
        "            addop(a, b, out=c)\n",
        "        return it.operands[2]\n"
      ],
      "metadata": {
        "id": "r54nlH5aldbJ"
      },
      "execution_count": 126,
      "outputs": []
    },
    {
      "cell_type": "code",
      "source": [
        "a=[1,2,3]\n",
        "b=[4,5,6]\n",
        "x=np.array(a).reshape(1,3)\n",
        "y=np.array(b).reshape(3,1)"
      ],
      "metadata": {
        "id": "nLjqaNF0sNDM"
      },
      "execution_count": 127,
      "outputs": []
    },
    {
      "cell_type": "code",
      "source": [
        "iter_add_py(x, y, out=None)"
      ],
      "metadata": {
        "id": "LLi-CxOMsb_g",
        "colab": {
          "base_uri": "https://localhost:8080/"
        },
        "outputId": "32d3ceee-c040-4a21-f862-747addcc9860"
      },
      "execution_count": 128,
      "outputs": [
        {
          "output_type": "execute_result",
          "data": {
            "text/plain": [
              "array([[5, 6, 7],\n",
              "       [6, 7, 8],\n",
              "       [7, 8, 9]])"
            ]
          },
          "metadata": {},
          "execution_count": 128
        }
      ]
    },
    {
      "cell_type": "markdown",
      "metadata": {
        "id": "kEg9VPUNgkP9"
      },
      "source": [
        "#### 63. Create an array class that has a name attribute (★★☆) \n",
        "(**hint**: class method)"
      ]
    },
    {
      "cell_type": "code",
      "execution_count": 128,
      "metadata": {
        "id": "inZZxJLrgkP9"
      },
      "outputs": [],
      "source": [
        ""
      ]
    },
    {
      "cell_type": "markdown",
      "metadata": {
        "id": "7oFj2jkPgkP9"
      },
      "source": [
        "#### 64. Consider a given vector, how to add 1 to each element indexed by a second vector (be careful with repeated indices)? (★★★) \n",
        "(**hint**: np.bincount | np.add.at)"
      ]
    },
    {
      "cell_type": "code",
      "execution_count": 130,
      "metadata": {
        "id": "6kOnrpLHgkP-",
        "colab": {
          "base_uri": "https://localhost:8080/"
        },
        "outputId": "45e5f134-9980-4bf7-c8e7-8daf39517cd2"
      },
      "outputs": [
        {
          "output_type": "stream",
          "name": "stdout",
          "text": [
            "[3. 4. 2. ... 1. 1. 4.]\n",
            "[5. 7. 3. ... 1. 1. 7.]\n"
          ]
        }
      ],
      "source": [
        "Z = np.ones(10)\n",
        "I = np.random.randint(0,len(Z),20)\n",
        "Z += np.bincount(I, minlength=len(Z))\n",
        "print(Z)\n",
        "np.add.at(Z, I, 1)\n",
        "print(Z)"
      ]
    },
    {
      "cell_type": "markdown",
      "metadata": {
        "id": "9DqZmyP-gkP-"
      },
      "source": [
        "#### 65. How to accumulate elements of a vector (X) to an array (F) based on an index list (I)? (★★★) \n",
        "(**hint**: np.bincount)"
      ]
    },
    {
      "cell_type": "code",
      "execution_count": 131,
      "metadata": {
        "id": "tZsBslyCgkP-",
        "colab": {
          "base_uri": "https://localhost:8080/"
        },
        "outputId": "90fa5b72-81fb-4670-b692-8084d98d47d1"
      },
      "outputs": [
        {
          "output_type": "stream",
          "name": "stdout",
          "text": [
            "[0. 7. 0. ... 0. 0. 3.]\n"
          ]
        }
      ],
      "source": [
        "X = [1,2,3,4,5,6]\n",
        "I = [1,3,9,3,4,1]\n",
        "F = np.bincount(I,X)\n",
        "print(F)"
      ]
    },
    {
      "cell_type": "markdown",
      "metadata": {
        "id": "Tq1EulX5gkP-"
      },
      "source": [
        "#### 66. Considering a (w,h,3) image of (dtype=ubyte), compute the number of unique colors (★★★) \n",
        "(**hint**: np.unique)"
      ]
    },
    {
      "cell_type": "code",
      "execution_count": 132,
      "metadata": {
        "id": "JYQAZckHgkP-",
        "colab": {
          "base_uri": "https://localhost:8080/"
        },
        "outputId": "2fc48889-a68f-4d52-b9f9-9c62c2c0bd3b"
      },
      "outputs": [
        {
          "output_type": "stream",
          "name": "stdout",
          "text": [
            "64\n"
          ]
        }
      ],
      "source": [
        "w, h = 256, 256\n",
        "I = np.random.randint(0, 4, (h, w, 3)).astype(np.ubyte)\n",
        "colors = np.unique(I.reshape(-1, 3), axis=0)\n",
        "n = len(colors)\n",
        "print(n)"
      ]
    },
    {
      "cell_type": "markdown",
      "metadata": {
        "id": "ve7DUcg2gkP-"
      },
      "source": [
        "#### 67. Considering a four dimensions array, how to get sum over the last two axis at once? (★★★) \n",
        "(**hint**: sum(axis=(-2,-1)))"
      ]
    },
    {
      "cell_type": "code",
      "execution_count": 133,
      "metadata": {
        "id": "88HkGUiDgkP_",
        "colab": {
          "base_uri": "https://localhost:8080/"
        },
        "outputId": "a5a0d3b0-2583-4725-e631-7fc0144e3077"
      },
      "outputs": [
        {
          "output_type": "stream",
          "name": "stdout",
          "text": [
            "[[49 57 49 48]\n",
            " [61 47 57 68]\n",
            " [49 39 55 61]]\n"
          ]
        }
      ],
      "source": [
        "A = np.random.randint(0,10,(3,4,3,4))\n",
        "sum = A.sum(axis=(-2,-1))\n",
        "print(sum)"
      ]
    },
    {
      "cell_type": "markdown",
      "metadata": {
        "id": "DzcLGCdugkP_"
      },
      "source": [
        "#### 68. Considering a one-dimensional vector D, how to compute means of subsets of D using a vector S of same size describing subset  indices? (★★★) \n",
        "(**hint**: np.bincount)"
      ]
    },
    {
      "cell_type": "code",
      "execution_count": 134,
      "metadata": {
        "id": "M2bC5roNgkP_",
        "colab": {
          "base_uri": "https://localhost:8080/"
        },
        "outputId": "db46f6b7-baeb-44dc-ffee-f5566169b26b"
      },
      "outputs": [
        {
          "output_type": "stream",
          "name": "stdout",
          "text": [
            "[0.5415 0.4859 0.312  ... 0.4647 0.411  0.6377]\n",
            "0    0.541514\n",
            "1    0.485859\n",
            "2    0.312003\n",
            "3    0.511721\n",
            "4    0.424363\n",
            "5    0.257233\n",
            "6    0.427257\n",
            "7    0.464704\n",
            "8    0.411028\n",
            "9    0.637665\n",
            "dtype: float64\n"
          ]
        }
      ],
      "source": [
        "D = np.random.uniform(0,1,100)\n",
        "S = np.random.randint(0,10,100)\n",
        "D_sums = np.bincount(S, weights=D)\n",
        "D_counts = np.bincount(S)\n",
        "D_means = D_sums / D_counts\n",
        "print(D_means)\n",
        "\n",
        "import pandas as pd\n",
        "print(pd.Series(D).groupby(S).mean())"
      ]
    },
    {
      "cell_type": "markdown",
      "metadata": {
        "id": "-j3PZu5BgkP_"
      },
      "source": [
        "#### 69. How to get the diagonal of a dot product? (★★★) \n",
        "(**hint**: np.diag)"
      ]
    },
    {
      "cell_type": "code",
      "execution_count": 135,
      "metadata": {
        "id": "6IEKLHcqgkP_",
        "colab": {
          "base_uri": "https://localhost:8080/"
        },
        "outputId": "ab91f9d8-fb3d-407f-a18d-382c603fe957"
      },
      "outputs": [
        {
          "output_type": "execute_result",
          "data": {
            "text/plain": [
              "array([1.274 , 1.4914, 1.5013, 1.0414, 0.3211])"
            ]
          },
          "metadata": {},
          "execution_count": 135
        }
      ],
      "source": [
        "A = np.random.uniform(0,1,(5,5))\n",
        "B = np.random.uniform(0,1,(5,5))\n",
        "\n",
        "np.diag(np.dot(A, B))\n",
        "\n",
        "np.sum(A * B.T, axis=1)\n",
        "\n",
        "np.einsum(\"ij,ji->i\", A, B)"
      ]
    },
    {
      "cell_type": "markdown",
      "metadata": {
        "id": "-AiIk6TggkP_"
      },
      "source": [
        "#### 70. Consider the vector \\[1, 2, 3, 4, 5\\], how to build a new vector with 3 consecutive zeros interleaved between each value? (★★★) \n",
        "(**hint**: array\\[::4\\])"
      ]
    },
    {
      "cell_type": "code",
      "execution_count": 136,
      "metadata": {
        "id": "HPLRRrIvgkQA",
        "colab": {
          "base_uri": "https://localhost:8080/"
        },
        "outputId": "156331e9-5295-4ede-b2f3-688286c7c87e"
      },
      "outputs": [
        {
          "output_type": "stream",
          "name": "stdout",
          "text": [
            "[1. 0. 0. ... 0. 0. 5.]\n"
          ]
        }
      ],
      "source": [
        "Z = np.array([1,2,3,4,5])\n",
        "nz = 3\n",
        "Z0 = np.zeros(len(Z) + (len(Z)-1)*(nz))\n",
        "Z0[::nz+1] = Z\n",
        "print(Z0)"
      ]
    },
    {
      "cell_type": "markdown",
      "metadata": {
        "id": "9D7VCrhJgkQA"
      },
      "source": [
        "#### 71. Consider an array of dimension (5,5,3), how to mulitply it by an array with dimensions (5,5)? (★★★) \n",
        "(**hint**: array\\[:, :, None\\])"
      ]
    },
    {
      "cell_type": "code",
      "execution_count": 137,
      "metadata": {
        "collapsed": true,
        "id": "qBhBArLrgkQA",
        "colab": {
          "base_uri": "https://localhost:8080/"
        },
        "outputId": "07158bf7-968b-4f7f-bc21-2e69710bd970"
      },
      "outputs": [
        {
          "output_type": "stream",
          "name": "stdout",
          "text": [
            "[[[1. 1. 1.]\n",
            "  [1. 1. 1.]\n",
            "  [1. 1. 1.]\n",
            "  [1. 1. 1.]\n",
            "  [1. 1. 1.]]\n",
            "\n",
            " [[1. 1. 1.]\n",
            "  [1. 1. 1.]\n",
            "  [1. 1. 1.]\n",
            "  [1. 1. 1.]\n",
            "  [1. 1. 1.]]\n",
            "\n",
            " [[1. 1. 1.]\n",
            "  [1. 1. 1.]\n",
            "  [1. 1. 1.]\n",
            "  [1. 1. 1.]\n",
            "  [1. 1. 1.]]\n",
            "\n",
            " [[1. 1. 1.]\n",
            "  [1. 1. 1.]\n",
            "  [1. 1. 1.]\n",
            "  [1. 1. 1.]\n",
            "  [1. 1. 1.]]\n",
            "\n",
            " [[1. 1. 1.]\n",
            "  [1. 1. 1.]\n",
            "  [1. 1. 1.]\n",
            "  [1. 1. 1.]\n",
            "  [1. 1. 1.]]]\n",
            "[[2. 2. 2. 2. 2.]\n",
            " [2. 2. 2. 2. 2.]\n",
            " [2. 2. 2. 2. 2.]\n",
            " [2. 2. 2. 2. 2.]\n",
            " [2. 2. 2. 2. 2.]]\n"
          ]
        }
      ],
      "source": [
        "A = np.ones((5,5,3))\n",
        "print(A)\n",
        "B = 2*np.ones((5,5))\n",
        "print(B)\n",
        "# print(A * B)"
      ]
    },
    {
      "cell_type": "code",
      "source": [
        "print(A*B[:,:, None])"
      ],
      "metadata": {
        "id": "nDmfAlwi_C7d",
        "colab": {
          "base_uri": "https://localhost:8080/"
        },
        "outputId": "fe3f447d-72e8-4547-aa12-04cc2eca38f2"
      },
      "execution_count": 138,
      "outputs": [
        {
          "output_type": "stream",
          "name": "stdout",
          "text": [
            "[[[2. 2. 2.]\n",
            "  [2. 2. 2.]\n",
            "  [2. 2. 2.]\n",
            "  [2. 2. 2.]\n",
            "  [2. 2. 2.]]\n",
            "\n",
            " [[2. 2. 2.]\n",
            "  [2. 2. 2.]\n",
            "  [2. 2. 2.]\n",
            "  [2. 2. 2.]\n",
            "  [2. 2. 2.]]\n",
            "\n",
            " [[2. 2. 2.]\n",
            "  [2. 2. 2.]\n",
            "  [2. 2. 2.]\n",
            "  [2. 2. 2.]\n",
            "  [2. 2. 2.]]\n",
            "\n",
            " [[2. 2. 2.]\n",
            "  [2. 2. 2.]\n",
            "  [2. 2. 2.]\n",
            "  [2. 2. 2.]\n",
            "  [2. 2. 2.]]\n",
            "\n",
            " [[2. 2. 2.]\n",
            "  [2. 2. 2.]\n",
            "  [2. 2. 2.]\n",
            "  [2. 2. 2.]\n",
            "  [2. 2. 2.]]]\n"
          ]
        }
      ]
    },
    {
      "cell_type": "markdown",
      "metadata": {
        "id": "HZYJuOHSgkQA"
      },
      "source": [
        "#### 72. How to swap two rows of an array? (★★★) \n",
        "(**hint**: array\\[\\[\\]\\] = array\\[\\[\\]\\])"
      ]
    },
    {
      "cell_type": "code",
      "execution_count": 139,
      "metadata": {
        "id": "2XDo54RCgkQA",
        "colab": {
          "base_uri": "https://localhost:8080/"
        },
        "outputId": "f8bb9294-fecf-4d0f-8cfe-10f05aa47574"
      },
      "outputs": [
        {
          "output_type": "execute_result",
          "data": {
            "text/plain": [
              "array([[ 0,  1],\n",
              "       [ 2,  3],\n",
              "       [ 4,  5],\n",
              "       ...,\n",
              "       [14, 15],\n",
              "       [16, 17],\n",
              "       [18, 19]])"
            ]
          },
          "metadata": {},
          "execution_count": 139
        }
      ],
      "source": [
        "A = np.arange(20).reshape(10,2)\n",
        "A"
      ]
    },
    {
      "cell_type": "code",
      "source": [
        "A[[0,5]]=A[[1,6]]\n",
        "print(A)"
      ],
      "metadata": {
        "id": "1uEnyywpACVe",
        "colab": {
          "base_uri": "https://localhost:8080/"
        },
        "outputId": "a9493ff5-a7fb-4e36-8cd6-4b7ab179634a"
      },
      "execution_count": 140,
      "outputs": [
        {
          "output_type": "stream",
          "name": "stdout",
          "text": [
            "[[ 2  3]\n",
            " [ 2  3]\n",
            " [ 4  5]\n",
            " ...\n",
            " [14 15]\n",
            " [16 17]\n",
            " [18 19]]\n"
          ]
        }
      ]
    },
    {
      "cell_type": "code",
      "source": [
        "A[[0,5]]"
      ],
      "metadata": {
        "id": "ordZDGdiBeCl",
        "colab": {
          "base_uri": "https://localhost:8080/"
        },
        "outputId": "2170a3cb-0a43-4212-fc38-be3f236acebc"
      },
      "execution_count": 141,
      "outputs": [
        {
          "output_type": "execute_result",
          "data": {
            "text/plain": [
              "array([[ 2,  3],\n",
              "       [12, 13]])"
            ]
          },
          "metadata": {},
          "execution_count": 141
        }
      ]
    },
    {
      "cell_type": "markdown",
      "metadata": {
        "id": "Rm-cri6RgkQB"
      },
      "source": [
        "#### 73. Consider a set of 10 triplets describing 10 triangles (with shared vertices), find the set of unique line segments composing all the  triangles (★★★) \n",
        "(**hint**: repeat, np.roll, np.sort, view, np.unique)"
      ]
    },
    {
      "cell_type": "code",
      "execution_count": 154,
      "metadata": {
        "id": "XfK-JhZigkQB",
        "colab": {
          "base_uri": "https://localhost:8080/"
        },
        "outputId": "d46052bd-db1d-4f7b-fdc5-3117a31885a0"
      },
      "outputs": [
        {
          "output_type": "stream",
          "name": "stdout",
          "text": [
            "[(10, 22) (10, 87) (11, 48) ... (59, 89) (63, 75) (64, 89)]\n"
          ]
        }
      ],
      "source": [
        "faces = np.random.randint(0,100,(10,3))\n",
        "F = np.roll(faces.repeat(2,axis=1),-1,axis=1)\n",
        "F = F.reshape(len(F)*3,2)\n",
        "F = np.sort(F,axis=1)\n",
        "G = F.view( dtype=[('p0',F.dtype),('p1',F.dtype)] )\n",
        "G = np.unique(G)\n",
        "print(G)"
      ]
    },
    {
      "cell_type": "markdown",
      "metadata": {
        "id": "lgYTInAUgkQB"
      },
      "source": [
        "#### 74. Given an array C that is a bincount, how to produce an array A such that np.bincount(A) == C? (★★★) \n",
        "(**hint**: np.repeat)"
      ]
    },
    {
      "cell_type": "code",
      "execution_count": 155,
      "metadata": {
        "id": "SShc8JiMgkQB",
        "colab": {
          "base_uri": "https://localhost:8080/"
        },
        "outputId": "da558bf8-a4bb-428c-f853-b2b66473fcab"
      },
      "outputs": [
        {
          "output_type": "stream",
          "name": "stdout",
          "text": [
            "[1 1 2 ... 4 4 6]\n"
          ]
        }
      ],
      "source": [
        "C = np.bincount([1,1,2,3,4,4,6])\n",
        "A = np.repeat(np.arange(len(C)), C)\n",
        "print(A)"
      ]
    },
    {
      "cell_type": "markdown",
      "metadata": {
        "id": "rKaxO2qCgkQB"
      },
      "source": [
        "#### 75. How to compute averages using a sliding window over an array? (★★★) \n",
        "(**hint**: np.cumsum)"
      ]
    },
    {
      "cell_type": "code",
      "execution_count": 156,
      "metadata": {
        "id": "1AiWpZssgkQB",
        "colab": {
          "base_uri": "https://localhost:8080/"
        },
        "outputId": "904a9613-5359-4eb4-8359-d5cc30f8cd13"
      },
      "outputs": [
        {
          "output_type": "stream",
          "name": "stdout",
          "text": [
            "[ 1.  2.  3. ... 16. 17. 18.]\n",
            "[ 1.  2.  3. ... 16. 17. 18.]\n"
          ]
        }
      ],
      "source": [
        "def moving_average(a, n=3) :\n",
        "    ret = np.cumsum(a, dtype=float)\n",
        "    ret[n:] = ret[n:] - ret[:-n]\n",
        "    return ret[n - 1:] / n\n",
        "Z = np.arange(20)\n",
        "print(moving_average(Z, n=3))\n",
        "\n",
        "\n",
        "\n",
        "from numpy.lib.stride_tricks import sliding_window_view\n",
        "\n",
        "Z = np.arange(20)\n",
        "print(sliding_window_view(Z, window_shape=3).mean(axis=-1))"
      ]
    },
    {
      "cell_type": "markdown",
      "metadata": {
        "id": "SkrCgssHgkQC"
      },
      "source": [
        "#### 76. Consider a one-dimensional array Z, build a two-dimensional array whose first row is (Z\\[0\\],Z\\[1\\],Z\\[2\\]) and each subsequent row is  shifted by 1 (last row should be (Z\\[-3\\],Z\\[-2\\],Z\\[-1\\]) (★★★) \n",
        "(**hint**: from numpy.lib import stride_tricks)"
      ]
    },
    {
      "cell_type": "code",
      "execution_count": 157,
      "metadata": {
        "id": "QnTSPNVHgkQC",
        "colab": {
          "base_uri": "https://localhost:8080/"
        },
        "outputId": "07fa796a-2c6d-4991-e71a-f9aeb4190248"
      },
      "outputs": [
        {
          "output_type": "stream",
          "name": "stdout",
          "text": [
            "[[0 1 2]\n",
            " [1 2 3]\n",
            " [2 3 4]\n",
            " ...\n",
            " [5 6 7]\n",
            " [6 7 8]\n",
            " [7 8 9]]\n",
            "[[0 1 2]\n",
            " [1 2 3]\n",
            " [2 3 4]\n",
            " ...\n",
            " [5 6 7]\n",
            " [6 7 8]\n",
            " [7 8 9]]\n"
          ]
        }
      ],
      "source": [
        "from numpy.lib import stride_tricks\n",
        "\n",
        "def rolling(a, window):\n",
        "    shape = (a.size - window + 1, window)\n",
        "    strides = (a.strides[0], a.strides[0])\n",
        "    return stride_tricks.as_strided(a, shape=shape, strides=strides)\n",
        "Z = rolling(np.arange(10), 3)\n",
        "print(Z)\n",
        "\n",
        "\n",
        "Z = np.arange(10)\n",
        "print(sliding_window_view(Z, window_shape=3))"
      ]
    },
    {
      "cell_type": "markdown",
      "metadata": {
        "id": "Y9cKYZ99gkQC"
      },
      "source": [
        "#### 77. How to negate a boolean, or to change the sign of a float inplace? (★★★) \n",
        "(**hint**: np.logical_not, np.negative)"
      ]
    },
    {
      "cell_type": "code",
      "execution_count": 158,
      "metadata": {
        "id": "U6oHTflJgkQC",
        "colab": {
          "base_uri": "https://localhost:8080/"
        },
        "outputId": "c18ba473-622d-48cd-e22c-eeeac48d921d"
      },
      "outputs": [
        {
          "output_type": "execute_result",
          "data": {
            "text/plain": [
              "array([ 0.1101,  0.9438,  0.9411, ...,  0.1003, -0.7562, -0.7462])"
            ]
          },
          "metadata": {},
          "execution_count": 158
        }
      ],
      "source": [
        "Z = np.random.randint(0,2,100)\n",
        "np.logical_not(Z, out=Z)\n",
        "\n",
        "Z = np.random.uniform(-1.0,1.0,100)\n",
        "np.negative(Z, out=Z)"
      ]
    },
    {
      "cell_type": "markdown",
      "metadata": {
        "id": "O_5rajATgkQC"
      },
      "source": [
        "#### 78. Consider 2 sets of points P0,P1 describing lines (2d) and a point p, how to compute distance from p to each line i  (P0\\[i\\],P1\\[i\\])? (★★★)"
      ]
    },
    {
      "cell_type": "code",
      "execution_count": 159,
      "metadata": {
        "id": "yAxm9oIngkQC",
        "colab": {
          "base_uri": "https://localhost:8080/"
        },
        "outputId": "46421a8e-c9ec-40db-ba8f-39f8e828126f"
      },
      "outputs": [
        {
          "output_type": "stream",
          "name": "stdout",
          "text": [
            "[ 6.5265  8.8162  2.4942 ... 15.5639  5.2605  2.2776]\n"
          ]
        }
      ],
      "source": [
        "def distance(P0, P1, p):\n",
        "    T = P1 - P0\n",
        "    L = (T**2).sum(axis=1)\n",
        "    U = -((P0[:,0]-p[...,0])*T[:,0] + (P0[:,1]-p[...,1])*T[:,1]) / L\n",
        "    U = U.reshape(len(U),1)\n",
        "    D = P0 + U*T - p\n",
        "    return np.sqrt((D**2).sum(axis=1))\n",
        "\n",
        "P0 = np.random.uniform(-10,10,(10,2))\n",
        "P1 = np.random.uniform(-10,10,(10,2))\n",
        "p  = np.random.uniform(-10,10,( 1,2))\n",
        "print(distance(P0, P1, p))"
      ]
    },
    {
      "cell_type": "markdown",
      "metadata": {
        "id": "X5INjMdAgkQD"
      },
      "source": [
        "#### 79. Consider 2 sets of points P0,P1 describing lines (2d) and a set of points P, how to compute distance from each point j (P\\[j\\]) to each line i (P0\\[i\\],P1\\[i\\])? (★★★)"
      ]
    },
    {
      "cell_type": "code",
      "execution_count": 141,
      "metadata": {
        "id": "d5Zfa-rdgkQD"
      },
      "outputs": [],
      "source": [
        "P0 = np.random.uniform(-10, 10, (10,2))\n",
        "P1 = np.random.uniform(-10,10,(10,2))\n",
        "p = np.random.uniform(-10, 10, (10,2))\n",
        "print(np.array([distance(P0,P1,p_i) for p_i in p]))"
      ]
    },
    {
      "cell_type": "markdown",
      "metadata": {
        "id": "vuvYApAlgkQD"
      },
      "source": [
        "#### 80. Consider an arbitrary array, write a function that extract a subpart with a fixed shape and centered on a given element (pad with a `fill` value when necessary) (★★★) \n",
        "(**hint**: minimum, maximum)"
      ]
    },
    {
      "cell_type": "code",
      "execution_count": 160,
      "metadata": {
        "id": "E6ywd_SfgkQD",
        "colab": {
          "base_uri": "https://localhost:8080/"
        },
        "outputId": "7ad77102-c818-4187-e6ca-d87398943a47"
      },
      "outputs": [
        {
          "output_type": "stream",
          "name": "stdout",
          "text": [
            "[[5 6 6 ... 9 9 8]\n",
            " [8 8 4 ... 2 3 3]\n",
            " [5 8 3 ... 7 7 1]\n",
            " ...\n",
            " [8 6 6 ... 6 0 6]\n",
            " [4 5 5 ... 5 7 0]\n",
            " [2 7 6 ... 1 1 3]]\n",
            "[[0 0 0 0 0]\n",
            " [0 5 6 6 7]\n",
            " [0 8 8 4 5]\n",
            " [0 5 8 3 7]\n",
            " [0 1 2 6 2]]\n"
          ]
        },
        {
          "output_type": "stream",
          "name": "stderr",
          "text": [
            "/usr/local/lib/python3.7/dist-packages/ipykernel_launcher.py:23: FutureWarning: Using a non-tuple sequence for multidimensional indexing is deprecated; use `arr[tuple(seq)]` instead of `arr[seq]`. In the future this will be interpreted as an array index, `arr[np.array(seq)]`, which will result either in an error or a different result.\n"
          ]
        }
      ],
      "source": [
        "Z = np.random.randint(0,10,(10,10))\n",
        "shape = (5,5)\n",
        "fill  = 0\n",
        "position = (1,1)\n",
        "\n",
        "R = np.ones(shape, dtype=Z.dtype)*fill\n",
        "P  = np.array(list(position)).astype(int)\n",
        "Rs = np.array(list(R.shape)).astype(int)\n",
        "Zs = np.array(list(Z.shape)).astype(int)\n",
        "\n",
        "R_start = np.zeros((len(shape),)).astype(int)\n",
        "R_stop  = np.array(list(shape)).astype(int)\n",
        "Z_start = (P-Rs//2)\n",
        "Z_stop  = (P+Rs//2)+Rs%2\n",
        "\n",
        "R_start = (R_start - np.minimum(Z_start,0)).tolist()\n",
        "Z_start = (np.maximum(Z_start,0)).tolist()\n",
        "R_stop = np.maximum(R_start, (R_stop - np.maximum(Z_stop-Zs,0))).tolist()\n",
        "Z_stop = (np.minimum(Z_stop,Zs)).tolist()\n",
        "\n",
        "r = [slice(start,stop) for start,stop in zip(R_start,R_stop)]\n",
        "z = [slice(start,stop) for start,stop in zip(Z_start,Z_stop)]\n",
        "R[r] = Z[z]\n",
        "print(Z)\n",
        "print(R)"
      ]
    },
    {
      "cell_type": "markdown",
      "metadata": {
        "id": "MtoqWW9DgkQD"
      },
      "source": [
        "#### 81. Consider an array Z = \\[1,2,3,4,5,6,7,8,9,10,11,12,13,14\\], how to generate an array R = \\[\\[1,2,3,4\\], \\[2,3,4,5\\], \\[3,4,5,6\\], ..., \\[11,12,13,14\\]\\]? (★★★) \n",
        "(**hint**: stride\\_tricks.as\\_strided)"
      ]
    },
    {
      "cell_type": "code",
      "execution_count": 161,
      "metadata": {
        "id": "1KbvTQ17gkQE",
        "colab": {
          "base_uri": "https://localhost:8080/"
        },
        "outputId": "643600e3-7ee0-485f-82ee-b8186cb94c99"
      },
      "outputs": [
        {
          "output_type": "stream",
          "name": "stdout",
          "text": [
            "[[ 1  2  3  4]\n",
            " [ 2  3  4  5]\n",
            " [ 3  4  5  6]\n",
            " ...\n",
            " [ 9 10 11 12]\n",
            " [10 11 12 13]\n",
            " [11 12 13 14]]\n",
            "[[ 1  2  3  4]\n",
            " [ 2  3  4  5]\n",
            " [ 3  4  5  6]\n",
            " ...\n",
            " [ 9 10 11 12]\n",
            " [10 11 12 13]\n",
            " [11 12 13 14]]\n"
          ]
        }
      ],
      "source": [
        "Z = np.arange(1,15,dtype=np.uint32)\n",
        "R = stride_tricks.as_strided(Z,(11,4),(4,4))\n",
        "print(R)\n",
        "\n",
        "\n",
        "\n",
        "Z = np.arange(1, 15, dtype=np.uint32)\n",
        "print(sliding_window_view(Z, window_shape=4))"
      ]
    },
    {
      "cell_type": "markdown",
      "metadata": {
        "id": "KpS_NO-RgkQE"
      },
      "source": [
        "#### 82. Compute a matrix rank (★★★) \n",
        "(**hint**: np.linalg.svd) (suggestion: np.linalg.svd)"
      ]
    },
    {
      "cell_type": "code",
      "execution_count": 163,
      "metadata": {
        "id": "Arg8Rn_hgkQE",
        "colab": {
          "base_uri": "https://localhost:8080/"
        },
        "outputId": "33bbbcfc-57eb-42cd-ddee-b0ffb4fb17c9"
      },
      "outputs": [
        {
          "output_type": "stream",
          "name": "stdout",
          "text": [
            "10\n",
            "10\n"
          ]
        }
      ],
      "source": [
        " Z= np.random.uniform(0,1,(10,10))\n",
        "U, S, V = np.linalg.svd(Z) \n",
        "rank = np.sum(S > 1e-10)\n",
        "print(rank)\n",
        "\n",
        "\n",
        "rank = np.linalg.matrix_rank(Z)\n",
        "print(rank)"
      ]
    },
    {
      "cell_type": "markdown",
      "metadata": {
        "id": "1788xbhKgkQE"
      },
      "source": [
        "#### 83. How to find the most frequent value in an array? \n",
        "(**hint**: np.bincount, argmax)"
      ]
    },
    {
      "cell_type": "code",
      "execution_count": 142,
      "metadata": {
        "id": "a2RgiebDgkQE",
        "colab": {
          "base_uri": "https://localhost:8080/"
        },
        "outputId": "5f626d08-6a23-4fa1-e28b-f7b2d7294155"
      },
      "outputs": [
        {
          "output_type": "execute_result",
          "data": {
            "text/plain": [
              "array([2, 6, 5, ..., 2, 4, 4])"
            ]
          },
          "metadata": {},
          "execution_count": 142
        }
      ],
      "source": [
        "a=np.random.randint(2,8,10)\n",
        "a"
      ]
    },
    {
      "cell_type": "code",
      "source": [
        "np.bincount(a)"
      ],
      "metadata": {
        "id": "V2rWaA9tDJv4",
        "colab": {
          "base_uri": "https://localhost:8080/"
        },
        "outputId": "e61eb510-66f1-4c45-c40c-6509f784ce67"
      },
      "execution_count": 143,
      "outputs": [
        {
          "output_type": "execute_result",
          "data": {
            "text/plain": [
              "array([0, 0, 3, ..., 3, 2, 1])"
            ]
          },
          "metadata": {},
          "execution_count": 143
        }
      ]
    },
    {
      "cell_type": "code",
      "source": [
        "a.argmax()"
      ],
      "metadata": {
        "id": "ekggqmMqDPxV",
        "colab": {
          "base_uri": "https://localhost:8080/"
        },
        "outputId": "1a54e955-a38a-46f6-b069-ec58e801ac19"
      },
      "execution_count": 144,
      "outputs": [
        {
          "output_type": "execute_result",
          "data": {
            "text/plain": [
              "1"
            ]
          },
          "metadata": {},
          "execution_count": 144
        }
      ]
    },
    {
      "cell_type": "code",
      "source": [
        "(np.bincount(a).argmax())"
      ],
      "metadata": {
        "id": "GXz_R8thDbet",
        "colab": {
          "base_uri": "https://localhost:8080/"
        },
        "outputId": "17832461-0170-4e52-94db-e69b0f062988"
      },
      "execution_count": 145,
      "outputs": [
        {
          "output_type": "execute_result",
          "data": {
            "text/plain": [
              "2"
            ]
          },
          "metadata": {},
          "execution_count": 145
        }
      ]
    },
    {
      "cell_type": "markdown",
      "metadata": {
        "id": "O9_SEZQZgkQF"
      },
      "source": [
        "#### 84. Extract all the contiguous 3x3 blocks from a random 10x10 matrix (★★★) \n",
        "(**hint**: stride\\_tricks.as\\_strided)"
      ]
    },
    {
      "cell_type": "code",
      "execution_count": 164,
      "metadata": {
        "id": "TpdAjb-RgkQF",
        "colab": {
          "base_uri": "https://localhost:8080/"
        },
        "outputId": "c6febd48-68bf-484b-b4a7-4f3dbe89c65b"
      },
      "outputs": [
        {
          "output_type": "stream",
          "name": "stdout",
          "text": [
            "[[[[0 2 0]\n",
            "   [1 3 1]\n",
            "   [0 4 4]]\n",
            "\n",
            "  [[2 0 1]\n",
            "   [3 1 1]\n",
            "   [4 4 0]]\n",
            "\n",
            "  [[0 1 2]\n",
            "   [1 1 0]\n",
            "   [4 0 2]]\n",
            "\n",
            "  ...\n",
            "\n",
            "  [[4 1 0]\n",
            "   [0 1 4]\n",
            "   [3 4 3]]\n",
            "\n",
            "  [[1 0 1]\n",
            "   [1 4 3]\n",
            "   [4 3 4]]\n",
            "\n",
            "  [[0 1 2]\n",
            "   [4 3 0]\n",
            "   [3 4 2]]]\n",
            "\n",
            "\n",
            " [[[1 3 1]\n",
            "   [0 4 4]\n",
            "   [1 2 2]]\n",
            "\n",
            "  [[3 1 1]\n",
            "   [4 4 0]\n",
            "   [2 2 1]]\n",
            "\n",
            "  [[1 1 0]\n",
            "   [4 0 2]\n",
            "   [2 1 1]]\n",
            "\n",
            "  ...\n",
            "\n",
            "  [[0 1 4]\n",
            "   [3 4 3]\n",
            "   [4 1 3]]\n",
            "\n",
            "  [[1 4 3]\n",
            "   [4 3 4]\n",
            "   [1 3 0]]\n",
            "\n",
            "  [[4 3 0]\n",
            "   [3 4 2]\n",
            "   [3 0 1]]]\n",
            "\n",
            "\n",
            " [[[0 4 4]\n",
            "   [1 2 2]\n",
            "   [1 3 1]]\n",
            "\n",
            "  [[4 4 0]\n",
            "   [2 2 1]\n",
            "   [3 1 2]]\n",
            "\n",
            "  [[4 0 2]\n",
            "   [2 1 1]\n",
            "   [1 2 3]]\n",
            "\n",
            "  ...\n",
            "\n",
            "  [[3 4 3]\n",
            "   [4 1 3]\n",
            "   [0 4 4]]\n",
            "\n",
            "  [[4 3 4]\n",
            "   [1 3 0]\n",
            "   [4 4 0]]\n",
            "\n",
            "  [[3 4 2]\n",
            "   [3 0 1]\n",
            "   [4 0 0]]]\n",
            "\n",
            "\n",
            " ...\n",
            "\n",
            "\n",
            " [[[3 0 2]\n",
            "   [0 4 2]\n",
            "   [1 0 2]]\n",
            "\n",
            "  [[0 2 3]\n",
            "   [4 2 2]\n",
            "   [0 2 2]]\n",
            "\n",
            "  [[2 3 0]\n",
            "   [2 2 2]\n",
            "   [2 2 0]]\n",
            "\n",
            "  ...\n",
            "\n",
            "  [[0 1 0]\n",
            "   [3 0 4]\n",
            "   [2 1 3]]\n",
            "\n",
            "  [[1 0 0]\n",
            "   [0 4 3]\n",
            "   [1 3 1]]\n",
            "\n",
            "  [[0 0 1]\n",
            "   [4 3 2]\n",
            "   [3 1 1]]]\n",
            "\n",
            "\n",
            " [[[0 4 2]\n",
            "   [1 0 2]\n",
            "   [3 4 2]]\n",
            "\n",
            "  [[4 2 2]\n",
            "   [0 2 2]\n",
            "   [4 2 0]]\n",
            "\n",
            "  [[2 2 2]\n",
            "   [2 2 0]\n",
            "   [2 0 4]]\n",
            "\n",
            "  ...\n",
            "\n",
            "  [[3 0 4]\n",
            "   [2 1 3]\n",
            "   [4 4 2]]\n",
            "\n",
            "  [[0 4 3]\n",
            "   [1 3 1]\n",
            "   [4 2 3]]\n",
            "\n",
            "  [[4 3 2]\n",
            "   [3 1 1]\n",
            "   [2 3 3]]]\n",
            "\n",
            "\n",
            " [[[1 0 2]\n",
            "   [3 4 2]\n",
            "   [4 4 3]]\n",
            "\n",
            "  [[0 2 2]\n",
            "   [4 2 0]\n",
            "   [4 3 1]]\n",
            "\n",
            "  [[2 2 0]\n",
            "   [2 0 4]\n",
            "   [3 1 0]]\n",
            "\n",
            "  ...\n",
            "\n",
            "  [[2 1 3]\n",
            "   [4 4 2]\n",
            "   [4 1 2]]\n",
            "\n",
            "  [[1 3 1]\n",
            "   [4 2 3]\n",
            "   [1 2 0]]\n",
            "\n",
            "  [[3 1 1]\n",
            "   [2 3 3]\n",
            "   [2 0 2]]]]\n",
            "[[[[1 2 0]\n",
            "   [4 3 1]\n",
            "   [0 2 3]]\n",
            "\n",
            "  [[2 0 0]\n",
            "   [3 1 3]\n",
            "   [2 3 2]]\n",
            "\n",
            "  [[0 0 4]\n",
            "   [1 3 3]\n",
            "   [3 2 3]]\n",
            "\n",
            "  ...\n",
            "\n",
            "  [[0 4 4]\n",
            "   [1 4 3]\n",
            "   [4 2 1]]\n",
            "\n",
            "  [[4 4 3]\n",
            "   [4 3 0]\n",
            "   [2 1 0]]\n",
            "\n",
            "  [[4 3 2]\n",
            "   [3 0 1]\n",
            "   [1 0 1]]]\n",
            "\n",
            "\n",
            " [[[4 3 1]\n",
            "   [0 2 3]\n",
            "   [2 3 2]]\n",
            "\n",
            "  [[3 1 3]\n",
            "   [2 3 2]\n",
            "   [3 2 0]]\n",
            "\n",
            "  [[1 3 3]\n",
            "   [3 2 3]\n",
            "   [2 0 1]]\n",
            "\n",
            "  ...\n",
            "\n",
            "  [[1 4 3]\n",
            "   [4 2 1]\n",
            "   [3 2 1]]\n",
            "\n",
            "  [[4 3 0]\n",
            "   [2 1 0]\n",
            "   [2 1 2]]\n",
            "\n",
            "  [[3 0 1]\n",
            "   [1 0 1]\n",
            "   [1 2 3]]]\n",
            "\n",
            "\n",
            " [[[0 2 3]\n",
            "   [2 3 2]\n",
            "   [3 1 2]]\n",
            "\n",
            "  [[2 3 2]\n",
            "   [3 2 0]\n",
            "   [1 2 4]]\n",
            "\n",
            "  [[3 2 3]\n",
            "   [2 0 1]\n",
            "   [2 4 1]]\n",
            "\n",
            "  ...\n",
            "\n",
            "  [[4 2 1]\n",
            "   [3 2 1]\n",
            "   [3 4 1]]\n",
            "\n",
            "  [[2 1 0]\n",
            "   [2 1 2]\n",
            "   [4 1 2]]\n",
            "\n",
            "  [[1 0 1]\n",
            "   [1 2 3]\n",
            "   [1 2 0]]]\n",
            "\n",
            "\n",
            " ...\n",
            "\n",
            "\n",
            " [[[4 1 3]\n",
            "   [4 1 3]\n",
            "   [3 0 2]]\n",
            "\n",
            "  [[1 3 3]\n",
            "   [1 3 3]\n",
            "   [0 2 2]]\n",
            "\n",
            "  [[3 3 2]\n",
            "   [3 3 3]\n",
            "   [2 2 0]]\n",
            "\n",
            "  ...\n",
            "\n",
            "  [[0 4 3]\n",
            "   [2 0 2]\n",
            "   [3 3 2]]\n",
            "\n",
            "  [[4 3 3]\n",
            "   [0 2 1]\n",
            "   [3 2 4]]\n",
            "\n",
            "  [[3 3 0]\n",
            "   [2 1 4]\n",
            "   [2 4 0]]]\n",
            "\n",
            "\n",
            " [[[4 1 3]\n",
            "   [3 0 2]\n",
            "   [4 4 3]]\n",
            "\n",
            "  [[1 3 3]\n",
            "   [0 2 2]\n",
            "   [4 3 4]]\n",
            "\n",
            "  [[3 3 3]\n",
            "   [2 2 0]\n",
            "   [3 4 0]]\n",
            "\n",
            "  ...\n",
            "\n",
            "  [[2 0 2]\n",
            "   [3 3 2]\n",
            "   [1 2 0]]\n",
            "\n",
            "  [[0 2 1]\n",
            "   [3 2 4]\n",
            "   [2 0 4]]\n",
            "\n",
            "  [[2 1 4]\n",
            "   [2 4 0]\n",
            "   [0 4 0]]]\n",
            "\n",
            "\n",
            " [[[3 0 2]\n",
            "   [4 4 3]\n",
            "   [2 1 2]]\n",
            "\n",
            "  [[0 2 2]\n",
            "   [4 3 4]\n",
            "   [1 2 2]]\n",
            "\n",
            "  [[2 2 0]\n",
            "   [3 4 0]\n",
            "   [2 2 0]]\n",
            "\n",
            "  ...\n",
            "\n",
            "  [[3 3 2]\n",
            "   [1 2 0]\n",
            "   [3 0 1]]\n",
            "\n",
            "  [[3 2 4]\n",
            "   [2 0 4]\n",
            "   [0 1 4]]\n",
            "\n",
            "  [[2 4 0]\n",
            "   [0 4 0]\n",
            "   [1 4 1]]]]\n"
          ]
        }
      ],
      "source": [
        "Z = np.random.randint(0,5,(10,10))\n",
        "n = 3\n",
        "i = 1 + (Z.shape[0]-3)\n",
        "j = 1 + (Z.shape[1]-3)\n",
        "C = stride_tricks.as_strided(Z, shape=(i, j, n, n), strides=Z.strides + Z.strides)\n",
        "print(C)\n",
        "\n",
        "\n",
        "Z = np.random.randint(0,5,(10,10))\n",
        "print(sliding_window_view(Z, window_shape=(3, 3)))"
      ]
    },
    {
      "cell_type": "markdown",
      "metadata": {
        "id": "V71uuvJggkQF"
      },
      "source": [
        "#### 85. Create a 2D array subclass such that Z\\[i,j\\] == Z\\[j,i\\] (★★★) \n",
        "(**hint**: class method)"
      ]
    },
    {
      "cell_type": "code",
      "execution_count": 165,
      "metadata": {
        "id": "Ns5ETGXtgkQF",
        "colab": {
          "base_uri": "https://localhost:8080/"
        },
        "outputId": "7ca09bc4-f62f-435d-9857-2f6bc90d61fa"
      },
      "outputs": [
        {
          "output_type": "stream",
          "name": "stdout",
          "text": [
            "[[ 3 10 11 15 12]\n",
            " [10  0 10 17  6]\n",
            " [11 10  8 42 16]\n",
            " [15 17 42  0  7]\n",
            " [12  6 16  7  1]]\n"
          ]
        }
      ],
      "source": [
        "class Symetric(np.ndarray):\n",
        "    def __setitem__(self, index, value):\n",
        "        i,j = index\n",
        "        super(Symetric, self).__setitem__((i,j), value)\n",
        "        super(Symetric, self).__setitem__((j,i), value)\n",
        "\n",
        "def symetric(Z):\n",
        "    return np.asarray(Z + Z.T - np.diag(Z.diagonal())).view(Symetric)\n",
        "\n",
        "S = symetric(np.random.randint(0,10,(5,5)))\n",
        "S[2,3] = 42\n",
        "print(S)"
      ]
    },
    {
      "cell_type": "markdown",
      "metadata": {
        "id": "u3YCgaUYgkQF"
      },
      "source": [
        "#### 86. Consider a set of p matrices wich shape (n,n) and a set of p vectors with shape (n,1). How to compute the sum of of the p matrix products at once? (result has shape (n,1)) (★★★) \n",
        "(**hint**: np.tensordot)"
      ]
    },
    {
      "cell_type": "code",
      "execution_count": 166,
      "metadata": {
        "id": "WudTwlnxgkQF",
        "colab": {
          "base_uri": "https://localhost:8080/"
        },
        "outputId": "99850d54-0ed8-4114-d01d-4f5481b97991"
      },
      "outputs": [
        {
          "output_type": "stream",
          "name": "stdout",
          "text": [
            "[[200.]\n",
            " [200.]\n",
            " [200.]\n",
            " ...\n",
            " [200.]\n",
            " [200.]\n",
            " [200.]]\n"
          ]
        }
      ],
      "source": [
        "p, n = 10, 20\n",
        "M = np.ones((p,n,n))\n",
        "V = np.ones((p,n,1))\n",
        "S = np.tensordot(M, V, axes=[[0, 2], [0, 1]])\n",
        "print(S)"
      ]
    },
    {
      "cell_type": "markdown",
      "metadata": {
        "id": "HIC2er9HgkQF"
      },
      "source": [
        "#### 87. Consider a 16x16 array, how to get the block-sum (block size is 4x4)? (★★★) \n",
        "(**hint**: np.add.reduceat)"
      ]
    },
    {
      "cell_type": "code",
      "execution_count": 167,
      "metadata": {
        "id": "RI-XMNDEgkQG",
        "colab": {
          "base_uri": "https://localhost:8080/"
        },
        "outputId": "84af902f-3735-4bbf-a964-340443973d99"
      },
      "outputs": [
        {
          "output_type": "stream",
          "name": "stdout",
          "text": [
            "[[28 40 12]\n",
            " [39 33 14]\n",
            " [22  7  9]]\n",
            "[[16. 16. 16. 16.]\n",
            " [16. 16. 16. 16.]\n",
            " [16. 16. 16. 16.]\n",
            " [16. 16. 16. 16.]]\n"
          ]
        }
      ],
      "source": [
        "k = 4\n",
        "S = np.add.reduceat(np.add.reduceat(Z, np.arange(0, Z.shape[0], k), axis=0),\n",
        "                                       np.arange(0, Z.shape[1], k), axis=1)\n",
        "print(S)\n",
        "\n",
        "Z = np.ones((16,16))\n",
        "k = 4\n",
        "\n",
        "windows = np.lib.stride_tricks.sliding_window_view(Z, (k, k))\n",
        "S = windows[::k, ::k, ...].sum(axis=(-2, -1))\n",
        "\n",
        "\n",
        "Z = np.ones((16, 16))\n",
        "k = 4\n",
        "print(sliding_window_view(Z, window_shape=(k, k))[::k, ::k].sum(axis=(-2, -1)))"
      ]
    },
    {
      "cell_type": "markdown",
      "metadata": {
        "id": "ZVrQ56ErgkQG"
      },
      "source": [
        "#### 88. How to implement the Game of Life using numpy arrays? (★★★)"
      ]
    },
    {
      "cell_type": "code",
      "execution_count": 168,
      "metadata": {
        "id": "4oJul7OggkQG",
        "colab": {
          "base_uri": "https://localhost:8080/"
        },
        "outputId": "0a69f417-5ea7-4bc3-9dd3-61a45e14b64b"
      },
      "outputs": [
        {
          "output_type": "stream",
          "name": "stdout",
          "text": [
            "[[0 0 0 ... 0 0 0]\n",
            " [0 0 0 ... 0 0 0]\n",
            " [0 0 0 ... 0 0 0]\n",
            " ...\n",
            " [0 0 0 ... 0 0 0]\n",
            " [0 0 0 ... 0 0 0]\n",
            " [0 0 0 ... 0 0 0]]\n"
          ]
        }
      ],
      "source": [
        "def iterate(Z):\n",
        "    \n",
        "    N = (Z[0:-2,0:-2] + Z[0:-2,1:-1] + Z[0:-2,2:] +\n",
        "         Z[1:-1,0:-2]                + Z[1:-1,2:] +\n",
        "         Z[2:  ,0:-2] + Z[2:  ,1:-1] + Z[2:  ,2:])\n",
        "\n",
        "    \n",
        "    birth = (N==3) & (Z[1:-1,1:-1]==0)\n",
        "    survive = ((N==2) | (N==3)) & (Z[1:-1,1:-1]==1)\n",
        "    Z[...] = 0\n",
        "    Z[1:-1,1:-1][birth | survive] = 1\n",
        "    return Z\n",
        "\n",
        "Z = np.random.randint(0,2,(50,50))\n",
        "for i in range(100): Z = iterate(Z)\n",
        "print(Z)"
      ]
    },
    {
      "cell_type": "markdown",
      "metadata": {
        "id": "wSwiWve_gkQG"
      },
      "source": [
        "#### 89. How to get the n largest values of an array (★★★) \n",
        "(**hint**: np.argsort | np.argpartition)"
      ]
    },
    {
      "cell_type": "code",
      "execution_count": 169,
      "metadata": {
        "id": "CglhIyu3gkQG",
        "colab": {
          "base_uri": "https://localhost:8080/"
        },
        "outputId": "dd9b5f63-2ee6-4b0c-9d92-d7a28d9f514c"
      },
      "outputs": [
        {
          "output_type": "stream",
          "name": "stdout",
          "text": [
            "[9995 9996 9997 9998 9999]\n",
            "[9999 9998 9996 9997 9995]\n"
          ]
        }
      ],
      "source": [
        "Z = np.arange(10000)\n",
        "np.random.shuffle(Z)\n",
        "n = 5\n",
        "\n",
        "\n",
        "print (Z[np.argsort(Z)[-n:]])\n",
        "\n",
        "print (Z[np.argpartition(-Z,n)[:n]])"
      ]
    },
    {
      "cell_type": "markdown",
      "metadata": {
        "id": "gUDGmbYCgkQG"
      },
      "source": [
        "#### 90. Given an arbitrary number of vectors, build the cartesian product (every combinations of every item) (★★★) \n",
        "(**hint**: np.indices)"
      ]
    },
    {
      "cell_type": "code",
      "execution_count": 170,
      "metadata": {
        "scrolled": true,
        "id": "mOVo602YgkQH",
        "colab": {
          "base_uri": "https://localhost:8080/"
        },
        "outputId": "54e48d20-a030-4bdd-eb3b-d9b921b55bae"
      },
      "outputs": [
        {
          "output_type": "stream",
          "name": "stdout",
          "text": [
            "[[1 4 6]\n",
            " [1 4 7]\n",
            " [1 5 6]\n",
            " ...\n",
            " [3 4 7]\n",
            " [3 5 6]\n",
            " [3 5 7]]\n"
          ]
        }
      ],
      "source": [
        "def cartesian(arrays):\n",
        "    arrays = [np.asarray(a) for a in arrays]\n",
        "    shape = (len(x) for x in arrays)\n",
        "\n",
        "    ix = np.indices(shape, dtype=int)\n",
        "    ix = ix.reshape(len(arrays), -1).T\n",
        "\n",
        "    for n, arr in enumerate(arrays):\n",
        "        ix[:, n] = arrays[n][ix[:, n]]\n",
        "\n",
        "    return ix\n",
        "\n",
        "print (cartesian(([1, 2, 3], [4, 5], [6, 7])))"
      ]
    },
    {
      "cell_type": "markdown",
      "metadata": {
        "id": "gd4kw2e0gkQH"
      },
      "source": [
        "#### 91. How to create a record array from a regular array? (★★★) \n",
        "(**hint**: np.core.records.fromarrays)"
      ]
    },
    {
      "cell_type": "code",
      "source": [
        "import numpy as np"
      ],
      "metadata": {
        "id": "J7ASI-Bw7YMQ"
      },
      "execution_count": 146,
      "outputs": []
    },
    {
      "cell_type": "code",
      "execution_count": 147,
      "metadata": {
        "id": "d6zC6fvygkQH",
        "colab": {
          "base_uri": "https://localhost:8080/"
        },
        "outputId": "6786010d-040b-44ac-a45c-e50d40c84605"
      },
      "outputs": [
        {
          "output_type": "execute_result",
          "data": {
            "text/plain": [
              "array([0.2987, 0.8502, 0.4251, ..., 0.2319, 0.9921, 0.6098])"
            ]
          },
          "metadata": {},
          "execution_count": 147
        }
      ],
      "source": [
        "a=np.random.random(20)\n",
        "a"
      ]
    },
    {
      "cell_type": "code",
      "source": [
        "np.core.records.fromarrays(a)"
      ],
      "metadata": {
        "id": "7HpmT2Vh7VqK",
        "colab": {
          "base_uri": "https://localhost:8080/"
        },
        "outputId": "0768ca71-9b7b-4abc-e7ba-477dc99f2710"
      },
      "execution_count": 148,
      "outputs": [
        {
          "output_type": "execute_result",
          "data": {
            "text/plain": [
              "rec.array((0.2987, 0.8502, 0.4251, 0.5589, 0.6274, 0.8497, 0.5291, 0.6147, 0.404, 0.1652, 0.0457, 0.3432, 0.1016, 0.2897, 0.7646, 0.1757, 0.9482, 0.2319, 0.9921, 0.6098),\n",
              "          dtype=[('f0', '<f8'), ('f1', '<f8'), ('f2', '<f8'), ('f3', '<f8'), ('f4', '<f8'), ('f5', '<f8'), ('f6', '<f8'), ('f7', '<f8'), ('f8', '<f8'), ('f9', '<f8'), ('f10', '<f8'), ('f11', '<f8'), ('f12', '<f8'), ('f13', '<f8'), ('f14', '<f8'), ('f15', '<f8'), ('f16', '<f8'), ('f17', '<f8'), ('f18', '<f8'), ('f19', '<f8')])"
            ]
          },
          "metadata": {},
          "execution_count": 148
        }
      ]
    },
    {
      "cell_type": "markdown",
      "metadata": {
        "id": "6gwaPVhMgkQH"
      },
      "source": [
        "#### 92. Consider a large vector Z, compute Z to the power of 3 using 3 different methods (★★★) \n",
        "(**hint**: np.power, \\*, np.einsum)"
      ]
    },
    {
      "cell_type": "code",
      "execution_count": 149,
      "metadata": {
        "id": "9TNAdLTBgkQH",
        "colab": {
          "base_uri": "https://localhost:8080/"
        },
        "outputId": "9c4269e3-ddf6-484d-fbb9-d881647c6828"
      },
      "outputs": [
        {
          "output_type": "execute_result",
          "data": {
            "text/plain": [
              "array([9, 5, 6, ..., 7, 9, 6])"
            ]
          },
          "metadata": {},
          "execution_count": 149
        }
      ],
      "source": [
        "a=np.random.randint(5,10,20)\n",
        "a"
      ]
    },
    {
      "cell_type": "code",
      "source": [
        "np.power(a,3)"
      ],
      "metadata": {
        "id": "TY4xcSEK8Abt",
        "colab": {
          "base_uri": "https://localhost:8080/"
        },
        "outputId": "5cf4dab3-58bd-4cd8-80af-8f83f6670d2a"
      },
      "execution_count": 150,
      "outputs": [
        {
          "output_type": "execute_result",
          "data": {
            "text/plain": [
              "array([729, 125, 216, ..., 343, 729, 216])"
            ]
          },
          "metadata": {},
          "execution_count": 150
        }
      ]
    },
    {
      "cell_type": "code",
      "source": [
        "a**3"
      ],
      "metadata": {
        "id": "DcgA4JJZ8Ilr",
        "colab": {
          "base_uri": "https://localhost:8080/"
        },
        "outputId": "e57ded3d-6844-4293-ae9a-c9b569642637"
      },
      "execution_count": 151,
      "outputs": [
        {
          "output_type": "execute_result",
          "data": {
            "text/plain": [
              "array([729, 125, 216, ..., 343, 729, 216])"
            ]
          },
          "metadata": {},
          "execution_count": 151
        }
      ]
    },
    {
      "cell_type": "markdown",
      "metadata": {
        "id": "zoSfiNF8gkQH"
      },
      "source": [
        "#### 93. Consider two arrays A and B of shape (8,3) and (2,2). How to find rows of A that contain elements of each row of B regardless of the order of the elements in B? (★★★) \n",
        "(**hint**: np.where)"
      ]
    },
    {
      "cell_type": "code",
      "execution_count": 152,
      "metadata": {
        "id": "fIqrTutZgkQI",
        "colab": {
          "base_uri": "https://localhost:8080/"
        },
        "outputId": "3e241fa9-76ee-4a14-88e5-2a30d47f97c7"
      },
      "outputs": [
        {
          "output_type": "stream",
          "name": "stdout",
          "text": [
            "[[ 6 14 17]\n",
            " [12  9  8]\n",
            " [12 16  5]\n",
            " ...\n",
            " [15 17 16]\n",
            " [ 5 16  5]\n",
            " [11 17  7]]\n",
            "[[7 6]\n",
            " [5 8]]\n"
          ]
        }
      ],
      "source": [
        "A=np.random.randint(5,18,24).reshape(8,3)\n",
        "b=np.random.randint(5,9,4).reshape(2,2)\n",
        "print(A)\n",
        "print(b)"
      ]
    },
    {
      "cell_type": "code",
      "source": [
        "A = np.random.randint(0,5,(8,3))\n",
        "B = np.random.randint(0,5,(2,2))\n",
        "\n",
        "C = (A[..., np.newaxis, np.newaxis] == B)\n",
        "rows = np.where(C.any((3,1)).all(1))[0]\n",
        "print(rows)"
      ],
      "metadata": {
        "id": "uVBtE_Sv9sX5",
        "colab": {
          "base_uri": "https://localhost:8080/"
        },
        "outputId": "f37bb584-6f55-4ab4-97aa-878986457f2c"
      },
      "execution_count": 171,
      "outputs": [
        {
          "output_type": "stream",
          "name": "stdout",
          "text": [
            "[0 1 2 ... 4 5 6]\n"
          ]
        }
      ]
    },
    {
      "cell_type": "markdown",
      "metadata": {
        "id": "3JqgUnLagkQI"
      },
      "source": [
        "#### 94. Considering a 10x3 matrix, extract rows with unequal values (e.g. \\[2,2,3\\]) (★★★)"
      ]
    },
    {
      "cell_type": "code",
      "execution_count": 172,
      "metadata": {
        "id": "TCHDLSCQgkQI",
        "colab": {
          "base_uri": "https://localhost:8080/"
        },
        "outputId": "1d92191e-3fed-4a73-a1a5-05e73d616658"
      },
      "outputs": [
        {
          "output_type": "stream",
          "name": "stdout",
          "text": [
            "[[0 0 4]\n",
            " [1 3 1]\n",
            " [4 0 1]\n",
            " ...\n",
            " [0 4 4]\n",
            " [0 3 4]\n",
            " [1 4 0]]\n",
            "[[0 0 4]\n",
            " [1 3 1]\n",
            " [4 0 1]\n",
            " ...\n",
            " [0 4 4]\n",
            " [0 3 4]\n",
            " [1 4 0]]\n",
            "[[0 0 4]\n",
            " [1 3 1]\n",
            " [4 0 1]\n",
            " ...\n",
            " [0 4 4]\n",
            " [0 3 4]\n",
            " [1 4 0]]\n"
          ]
        }
      ],
      "source": [
        "Z = np.random.randint(0,5,(10,3))\n",
        "print(Z)\n",
        "\n",
        "E = np.all(Z[:,1:] == Z[:,:-1], axis=1)\n",
        "U = Z[~E]\n",
        "print(U)\n",
        "\n",
        "U = Z[Z.max(axis=1) != Z.min(axis=1),:]\n",
        "print(U)"
      ]
    },
    {
      "cell_type": "markdown",
      "metadata": {
        "id": "VTqIkqL1gkQI"
      },
      "source": [
        "#### 95. Convert a vector of ints into a matrix binary representation (★★★) \n",
        "(**hint**: np.unpackbits)"
      ]
    },
    {
      "cell_type": "code",
      "execution_count": 174,
      "metadata": {
        "id": "42E_UARrgkQI",
        "colab": {
          "base_uri": "https://localhost:8080/"
        },
        "outputId": "7fe48a67-ebef-42d0-bd02-91f8633ac654"
      },
      "outputs": [
        {
          "output_type": "stream",
          "name": "stdout",
          "text": [
            "[[0 0 0 ... 0 0 0]\n",
            " [0 0 0 ... 0 0 1]\n",
            " [0 0 0 ... 0 1 0]\n",
            " ...\n",
            " [0 0 1 ... 0 0 0]\n",
            " [0 1 0 ... 0 0 0]\n",
            " [1 0 0 ... 0 0 0]]\n",
            "[[0 0 0 ... 0 0 0]\n",
            " [0 0 0 ... 0 0 1]\n",
            " [0 0 0 ... 0 1 0]\n",
            " ...\n",
            " [0 0 1 ... 0 0 0]\n",
            " [0 1 0 ... 0 0 0]\n",
            " [1 0 0 ... 0 0 0]]\n"
          ]
        }
      ],
      "source": [
        "I = np.array([0, 1, 2, 3, 15, 16, 32, 64, 128])\n",
        "B = ((I.reshape(-1,1) & (2**np.arange(8))) != 0).astype(int)\n",
        "print(B[:,::-1])\n",
        "\n",
        "\n",
        "I = np.array([0, 1, 2, 3, 15, 16, 32, 64, 128], dtype=np.uint8)\n",
        "print(np.unpackbits(I[:, np.newaxis], axis=1))"
      ]
    },
    {
      "cell_type": "markdown",
      "metadata": {
        "id": "6CryP7rxgkQJ"
      },
      "source": [
        "#### 96. Given a two dimensional array, how to extract unique rows? (★★★) \n",
        "(**hint**: np.ascontiguousarray)"
      ]
    },
    {
      "cell_type": "code",
      "execution_count": 175,
      "metadata": {
        "id": "IeBRk__egkQJ",
        "colab": {
          "base_uri": "https://localhost:8080/"
        },
        "outputId": "9db29c99-50a8-4e68-d56d-ae40c312709d"
      },
      "outputs": [
        {
          "output_type": "stream",
          "name": "stdout",
          "text": [
            "[[0 0 0]\n",
            " [0 1 1]\n",
            " [1 0 0]\n",
            " [1 0 1]\n",
            " [1 1 0]]\n",
            "[[0 0 0]\n",
            " [0 1 1]\n",
            " [1 0 0]\n",
            " [1 0 1]\n",
            " [1 1 0]]\n"
          ]
        }
      ],
      "source": [
        "Z = np.random.randint(0,2,(6,3))\n",
        "T = np.ascontiguousarray(Z).view(np.dtype((np.void, Z.dtype.itemsize * Z.shape[1])))\n",
        "_, idx = np.unique(T, return_index=True)\n",
        "uZ = Z[idx]\n",
        "print(uZ)\n",
        "\n",
        "uZ = np.unique(Z, axis=0)\n",
        "print(uZ)"
      ]
    },
    {
      "cell_type": "markdown",
      "metadata": {
        "id": "EDiBzfW3gkQJ"
      },
      "source": [
        "#### 97. Considering 2 vectors A & B, write the einsum equivalent of inner, outer, sum, and mul function (★★★) \n",
        "(**hint**: np.einsum)"
      ]
    },
    {
      "cell_type": "code",
      "execution_count": 176,
      "metadata": {
        "id": "4wzbCWYFgkQJ",
        "colab": {
          "base_uri": "https://localhost:8080/"
        },
        "outputId": "e7958298-6863-47b6-a7b3-9db262028995"
      },
      "outputs": [
        {
          "output_type": "execute_result",
          "data": {
            "text/plain": [
              "array([[0.5035, 0.3492, 0.0621, ..., 0.4343, 0.3626, 0.3894],\n",
              "       [0.8173, 0.5669, 0.1008, ..., 0.705 , 0.5885, 0.6321],\n",
              "       [0.0672, 0.0466, 0.0083, ..., 0.058 , 0.0484, 0.052 ],\n",
              "       ...,\n",
              "       [0.2216, 0.1537, 0.0273, ..., 0.1911, 0.1595, 0.1714],\n",
              "       [0.6969, 0.4833, 0.0859, ..., 0.6011, 0.5018, 0.5389],\n",
              "       [0.6675, 0.4629, 0.0823, ..., 0.5758, 0.4806, 0.5162]])"
            ]
          },
          "metadata": {},
          "execution_count": 176
        }
      ],
      "source": [
        "A = np.random.uniform(0,1,10)\n",
        "B = np.random.uniform(0,1,10)\n",
        "\n",
        "np.einsum('i->', A)      \n",
        "np.einsum('i,i->i', A, B) \n",
        "np.einsum('i,i', A, B)    \n",
        "np.einsum('i,j->ij', A, B)  "
      ]
    },
    {
      "cell_type": "markdown",
      "metadata": {
        "id": "uk5MhvxhgkQJ"
      },
      "source": [
        "#### 98. Considering a path described by two vectors (X,Y), how to sample it using equidistant samples (★★★)? \n",
        "(**hint**: np.cumsum, np.interp)"
      ]
    },
    {
      "cell_type": "code",
      "execution_count": 180,
      "metadata": {
        "collapsed": true,
        "id": "uluqI1XAgkQJ"
      },
      "outputs": [],
      "source": [
        "phi = np.arange(0, 10*np.pi, 0.1)\n",
        "a = 1\n",
        "x = a*phi*np.cos(phi)\n",
        "y = a*phi*np.sin(phi)\n",
        "\n",
        "dr = (np.diff(x)**2 + np.diff(y)**2)\n",
        "r = np.zeros_like(x)\n",
        "r[1:] = np.cumsum(dr)                \n",
        "r_int = np.linspace(0, r.max(), 200) \n",
        "x_int = np.interp(r_int, r, x)       \n",
        "y_int = np.interp(r_int, r, y)"
      ]
    },
    {
      "cell_type": "markdown",
      "metadata": {
        "id": "dASRapgKgkQK"
      },
      "source": [
        "#### 99. Given an integer n and a 2D array X, select from X the rows which can be interpreted as draws from a multinomial distribution with n degrees, i.e., the rows which only contain integers and which sum to n. (★★★) \n",
        "(**hint**: np.logical\\_and.reduce, np.mod)"
      ]
    },
    {
      "cell_type": "code",
      "execution_count": 178,
      "metadata": {
        "id": "K7LofA6JgkQK",
        "colab": {
          "base_uri": "https://localhost:8080/"
        },
        "outputId": "04435c59-74c7-4d54-d4a2-5e6f6a57d113"
      },
      "outputs": [
        {
          "output_type": "stream",
          "name": "stdout",
          "text": [
            "[[2. 0. 1. 1.]]\n"
          ]
        }
      ],
      "source": [
        "X = np.asarray([[1.0, 0.0, 3.0, 8.0],\n",
        "                [2.0, 0.0, 1.0, 1.0],\n",
        "                [1.5, 2.5, 1.0, 0.0]])\n",
        "n = 4\n",
        "M = np.logical_and.reduce(np.mod(X, 1) == 0, axis=-1)\n",
        "M &= (X.sum(axis=-1) == n)\n",
        "print(X[M])"
      ]
    },
    {
      "cell_type": "markdown",
      "metadata": {
        "id": "mTmvmROWgkQK"
      },
      "source": [
        "#### 100. Compute bootstrapped 95% confidence intervals for the mean of a 1D array X (i.e., resample the elements of an array with replacement N times, compute the mean of each sample, and then compute percentiles over the means). (★★★) \n",
        "(**hint**: np.percentile)"
      ]
    },
    {
      "cell_type": "code",
      "execution_count": 179,
      "metadata": {
        "id": "80rv7NLagkQK",
        "colab": {
          "base_uri": "https://localhost:8080/"
        },
        "outputId": "e3b7c81a-bbb6-46bd-a7c8-949f0c382242"
      },
      "outputs": [
        {
          "output_type": "stream",
          "name": "stdout",
          "text": [
            "[-0.1815  0.1763]\n"
          ]
        }
      ],
      "source": [
        "X = np.random.randn(100) \n",
        "N = 1000 \n",
        "idx = np.random.randint(0, X.size, (N, X.size))\n",
        "means = X[idx].mean(axis=1)\n",
        "confint = np.percentile(means, [2.5, 97.5])\n",
        "print(confint)"
      ]
    }
  ],
  "metadata": {
    "kernelspec": {
      "display_name": "Python 3",
      "language": "python",
      "name": "python3"
    },
    "language_info": {
      "codemirror_mode": {
        "name": "ipython",
        "version": 3
      },
      "file_extension": ".py",
      "mimetype": "text/x-python",
      "name": "python",
      "nbconvert_exporter": "python",
      "pygments_lexer": "ipython3",
      "version": "3.8.3"
    },
    "colab": {
      "name": " Numpy_tasks.ipynb",
      "provenance": [],
      "collapsed_sections": [
        "u9NF383rgkPw",
        "7WScw7DWgkPx",
        "R8Va_TMfgkPx",
        "Up3p4spBgkP1",
        "QfRPiBGzgkP1",
        "JstUkvoTgkP3",
        "dUq84mgIgkP3",
        "8FbSmEwygkP3",
        "ZQojRQe_gkP4",
        "eXPJyYz5gkP4",
        "XjoJalOngkP5",
        "qgVNLpDogkP5",
        "71bnsb72gkP5",
        "KiBFCPexgkP6",
        "GbypQrtFgkP8",
        "ARlH6okEgkP8",
        "sa5zraL-gkP8",
        "kEg9VPUNgkP9",
        "3JqgUnLagkQI",
        "VTqIkqL1gkQI",
        "6CryP7rxgkQJ",
        "EDiBzfW3gkQJ",
        "uk5MhvxhgkQJ",
        "dASRapgKgkQK",
        "mTmvmROWgkQK"
      ],
      "include_colab_link": true
    }
  },
  "nbformat": 4,
  "nbformat_minor": 0
}